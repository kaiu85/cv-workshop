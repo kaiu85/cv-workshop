{
 "cells": [
  {
   "cell_type": "markdown",
   "metadata": {},
   "source": [
    "# Anaconda\n"
   ]
  },
  {
   "cell_type": "markdown",
   "metadata": {},
   "source": [
    "- eine Paketverwaltungssoftware für die Programmiersprache Python\n",
    "- vereinfacht die Installation von Python-Biblotheken \n",
    "- bietet weitere Tools an, wie z.B. Jupyter und Spyder\n",
    "\n"
   ]
  },
  {
   "cell_type": "markdown",
   "metadata": {},
   "source": [
    "### Installation"
   ]
  },
  {
   "cell_type": "markdown",
   "metadata": {},
   "source": [
    "1. Link für Download von Anaconda: https://www.anaconda.com/products/individual#Downloads\n",
    "\n",
    "    Hinweis für Windows-User: 64-Bit Graphical Installer herunterladen"
   ]
  },
  {
   "cell_type": "markdown",
   "metadata": {},
   "source": [
    "<img src=\"Bilder/Installer.png\" style=\"float: left; width: 60%; margin-right: 1%; margin-bottom: 0.5em;\">\n"
   ]
  },
  {
   "cell_type": "markdown",
   "metadata": {},
   "source": [
    "### Installationsschritte:"
   ]
  },
  {
   "cell_type": "markdown",
   "metadata": {},
   "source": [
    "<img src=\"Bilder/InstallTeil1.png\" style=\"float: left; width: 80%; margin-right: 1%; margin-bottom: 0.5em;\">\n"
   ]
  },
  {
   "cell_type": "markdown",
   "metadata": {},
   "source": [
    "<img src=\"Bilder/InstallTeil2.png\" style=\"float: left; width: 80%; margin-right: 1%; margin-bottom: 0.5em;\">\n"
   ]
  },
  {
   "cell_type": "markdown",
   "metadata": {},
   "source": [
    "### Bedienung von Anaconda"
   ]
  },
  {
   "cell_type": "markdown",
   "metadata": {},
   "source": [
    "- starten Sie Anaconda und der Anaconda Navigator wird angezeigt\n",
    "- unter Jupyter Notebook Launch eröffnet sich im Browser Jupyter-Ordnerverzeichnis"
   ]
  },
  {
   "cell_type": "markdown",
   "metadata": {},
   "source": [
    "<img src=\"Bilder/Launcher.jpg\" style=\"float: left; width: 80%; margin-right: 1%; margin-bottom: 0.5em;\">\n"
   ]
  },
  {
   "cell_type": "markdown",
   "metadata": {},
   "source": [
    "- im Ordnerverzeichnis von Jupyter unter Upload können einzelne Dateien hochgeladen werden, wie z.B. Anaconda-Tutorial.ipynb (keine Ordner)"
   ]
  },
  {
   "cell_type": "markdown",
   "metadata": {},
   "source": [
    "<img src=\"Bilder/Ordnerverzeichnis.png\" style=\"float: left; width: 100%; margin-right: 1%; margin-bottom: 0.5em;\">\n"
   ]
  },
  {
   "cell_type": "markdown",
   "metadata": {},
   "source": [
    "- das gesamte Projekt in den Ordner rüberziehen im richtigen Pfad (hier z.B. C:\\Users\\Moha\\Arbeit)\n",
    "<img src=\"Bilder/Ordner.png\" style=\"float: left; width: 70%; margin-right: 1%; margin-bottom: 0.5em;\">\n"
   ]
  },
  {
   "cell_type": "markdown",
   "metadata": {},
   "source": [
    "Jetzt wird das Projekt auch im Ordnerverzeichnis von Jupyter angezeigt bzw. im Browser (Neustart von Anaconda nötig)\n"
   ]
  },
  {
   "cell_type": "markdown",
   "metadata": {},
   "source": [
    "#####  Schließen Sie nun den gesamten Browser und alles weitere bis auf den Anaconda Navigator "
   ]
  },
  {
   "cell_type": "markdown",
   "metadata": {},
   "source": [
    "#  Installation der Python Biblotheken "
   ]
  },
  {
   "cell_type": "raw",
   "metadata": {},
   "source": [
    "Gehen Sie wie folgt vor:\n",
    "    - auf Environments klicken (1)\n",
    "    - auf Import klicken (\"Import new environment\" eröffnet sich) (2)\n",
    "    - auf Ordner-Symbol klicken und die Package-Datei environment.yml einbinden (3)\n",
    "    - im Textfeld \"Name\": UmgebungML eingeben und auf Import klicken & warten (4)\n",
    "\n",
    "\n",
    "Im Anaconda Navigator unter Home -> Applications on: UmgebungML wählen\n",
    "Beim Neustart von Anaconda müssen Sie jedesmal UmgebungML neu wählen"
   ]
  },
  {
   "cell_type": "markdown",
   "metadata": {},
   "source": [
    "(1) & (2)\n",
    "<img src=\"Bilder/step1.png\" style=\"float: left; width: 70%; margin-right: 1%; margin-bottom: 0.5em;\">"
   ]
  },
  {
   "cell_type": "markdown",
   "metadata": {},
   "source": [
    "(3) & (4)\n",
    "<img src=\"Bilder/step3.png\" style=\"float: left; width: 70%; margin-right: 1%; margin-bottom: 0.5em;\">"
   ]
  },
  {
   "cell_type": "markdown",
   "metadata": {},
   "source": [
    "<img src=\"Bilder/step4.png\" style=\"float: left; width: 70%; margin-right: 1%; margin-bottom: 0.5em;\">"
   ]
  },
  {
   "cell_type": "code",
   "execution_count": null,
   "metadata": {},
   "outputs": [],
   "source": []
  }
 ],
 "metadata": {
  "kernelspec": {
   "display_name": "Python 3",
   "language": "python",
   "name": "python3"
  },
  "language_info": {
   "codemirror_mode": {
    "name": "ipython",
    "version": 3
   },
   "file_extension": ".py",
   "mimetype": "text/x-python",
   "name": "python",
   "nbconvert_exporter": "python",
   "pygments_lexer": "ipython3",
   "version": "3.7.6"
  }
 },
 "nbformat": 4,
 "nbformat_minor": 5
}
