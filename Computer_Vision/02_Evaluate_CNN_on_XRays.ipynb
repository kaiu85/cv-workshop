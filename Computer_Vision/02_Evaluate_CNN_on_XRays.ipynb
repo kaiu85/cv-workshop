{
 "cells": [
  {
   "cell_type": "markdown",
   "metadata": {
    "id": "GDFUQ0aUMv1-"
   },
   "source": [
    "# Evaluation der Trainingskurven und der Ergebnisse auf dem Testset\n",
    "\n",
    "Genau wie im Trainings-Notebook importieren wir zunächst einige Bibliotheken, die wir benutzen werden, richten unsere Umgebung ein und wählen die Graphikkarte, die wir für unsere Berechnungen benutzen."
   ]
  },
  {
   "cell_type": "code",
   "execution_count": null,
   "metadata": {
    "colab": {
     "base_uri": "https://localhost:8080/"
    },
    "id": "sQY6YneXMv1-",
    "outputId": "ba40186a-f8f4-49c0-e29a-0fc95edfe759"
   },
   "outputs": [],
   "source": [
    "# PyTorch ist neben TensorFlow eines der zwei großen \"Backends\" für\n",
    "# Deep-Learning, d.h. eine der Bibliotheken die die zu Grunde \n",
    "# liegende Funktionalität bereit stellen, um tiefe neuronale Netze\n",
    "# zu Trainieren und Anzuwenden. Man importiert PyTorch \n",
    "# und verschiedene Sub-Module wie folgt:\n",
    "import torch\n",
    "\n",
    "# Und wir benutzen wieder matplotlib zur graphischen Darstellung, in \n",
    "# diesem Fall der Lernkurven\n",
    "import matplotlib.pyplot as plt \n",
    "\n",
    "# Wir testen im folgenden, ob und wieviele Graphikkarten auf dem Notebook-Server zur Verfügung\n",
    "# stehen und wählen eine davon aus (bitte nicht ändern, sonst kommen sie eventuell\n",
    "# ihren Mitstudierenden ins Gehege).\n",
    "\n",
    "gpu_nr = 0\n",
    "if torch.cuda.is_available():\n",
    "    print('%d GPU(s) available.' % torch.cuda.device_count())\n",
    "    \n",
    "    if torch.cuda.device_count() > gpu_nr:\n",
    "        device = \"cuda:%d\" % gpu_nr \n",
    "    else:\n",
    "        device = \"cpu\"\n",
    "else:\n",
    "    device = \"cpu\"\n",
    "\n",
    "print('Using device: ' + device)"
   ]
  },
  {
   "cell_type": "markdown",
   "metadata": {},
   "source": [
    "### Trainingskurven\n",
    "Zunächst schauen wir uns die Trainingskurven an. Falls z.B. die Learning-Rate zu groß ist und die Kostenfunktion explodiert, kann man das so sofort erkennen.\n",
    "\n",
    "__Ohne eine Darstellung der Lernkurven, die zeigen, wie sich die Kostenfunktion auf dem Trainings- und Validierungsset während des Trainings entwickelt, sollte man keinem Deep-Learning-Ergebnis trauen.__"
   ]
  },
  {
   "cell_type": "code",
   "execution_count": null,
   "metadata": {},
   "outputs": [],
   "source": [
    "# Wir teilen matplotlib mit, dass die Kurven direkt hier ins Notebook gezeichnet werden sollen.\n",
    "%matplotlib inline\n",
    "\n",
    "# Jetzt lesen wir die Metriken, die wir in der Trainingsschleife nach jeder Epoche gespeichert haben\n",
    "from helper_functions_covid import read_log_data\n",
    "\n",
    "log_file = 'log_train.txt'\n",
    "log_data = read_log_data(log_file)\n",
    "\n",
    "# Zuerst zeichnen wir eine Graphik, die die Lernkurven der Kostenfunktion (\"loss\") auf dem Trainings-\n",
    "# und Validierungsset darstellt\n",
    "plt.figure()\n",
    "plt.title('Loss')\n",
    "plt.plot(log_data['epoch'],log_data['train loss'],label=\"train loss\")\n",
    "plt.plot(log_data['epoch'],log_data['validation loss'],label=\"validation loss\")\n",
    "plt.xlabel('Epoche')\n",
    "plt.ylabel('Kostenfunktion')\n",
    "plt.legend(loc='best')\n",
    "plt.show()\n",
    "\n",
    "# Jetzt zeichnen wir noch eine Graphik, die die Lernkurven der Accuracy auf dem Trainings-\n",
    "# und Validierungsset darstellt\n",
    "plt.figure()\n",
    "plt.title('Accuracy')\n",
    "plt.plot(log_data['epoch'],log_data['train accuracy'],label=\"train accuracy\")\n",
    "plt.plot(log_data['epoch'],log_data['validation accuracy'],label=\"validation accuracy\")\n",
    "plt.legend(loc='best')\n",
    "plt.xlabel('Epoche')\n",
    "plt.ylabel('Accuracy')\n",
    "plt.show()"
   ]
  },
  {
   "cell_type": "markdown",
   "metadata": {},
   "source": [
    "### Metriken auf dem Testset\n",
    "\n",
    "Als nächstes schauen wir uns die Kennwerte des trainierten Netzwerkes auf dem unabhängigen Testset an, das wir bereits im Trainings-Notebook vorbereitet und gespeichert haben.\n",
    "\n",
    "Dazu laden wir zunächst die Dateinamen aus den entsprechenden Listen, die wir im Trainings-Notebook erzeugt haben."
   ]
  },
  {
   "cell_type": "code",
   "execution_count": null,
   "metadata": {
    "colab": {
     "base_uri": "https://localhost:8080/"
    },
    "id": "P350TxHBMv1-",
    "outputId": "68a58a4e-5132-42bf-faa8-8e3e98d699dc"
   },
   "outputs": [],
   "source": [
    "from helper_functions_covid import read_txt\n",
    "\n",
    "filenames_normal_test = read_txt('filenames_normal_test.txt')\n",
    "filenames_pneumonia_test = read_txt('filenames_pneumonia_test.txt')\n",
    "filenames_covid_test = read_txt('filenames_covid_test.txt')"
   ]
  },
  {
   "cell_type": "markdown",
   "metadata": {},
   "source": [
    "Jetzt erzeugen wir einen entsprechenden Datensatz, der diese Dateien so lädt und aufbereitet, dass das trainierte Netz sie verarbeiten kann."
   ]
  },
  {
   "cell_type": "code",
   "execution_count": null,
   "metadata": {
    "id": "xta8wBB6Mv2A"
   },
   "outputs": [],
   "source": [
    "from helper_functions_covid import ImageDataset, val_transformer, DataLoader\n",
    "\n",
    "data_path = './covid_dataset/'\n",
    "batchsize = 8\n",
    "\n",
    "testset = ImageDataset(root_dir=data_path,\n",
    "                          classes = ['normal', 'pneumonia', 'COVID'],\n",
    "                          files_path = [filenames_normal_test, filenames_pneumonia_test, filenames_covid_test],\n",
    "                          transform= val_transformer)\n",
    "\n",
    "test_loader = DataLoader(testset, batch_size=batchsize, drop_last=False, shuffle=False)"
   ]
  },
  {
   "cell_type": "markdown",
   "metadata": {},
   "source": [
    "Nun können wir die Metriken auf dem Testset evaluieren."
   ]
  },
  {
   "cell_type": "code",
   "execution_count": null,
   "metadata": {
    "colab": {
     "base_uri": "https://localhost:8080/"
    },
    "id": "KJdQKa1XMv2A",
    "outputId": "4d10d814-dcfc-4ca5-cb07-0e1ee4248031"
   },
   "outputs": [],
   "source": [
    "from helper_functions_covid import compute_metrics\n",
    "\n",
    "model = torch.load(\"best_model.pkl\")\n",
    "\n",
    "metrics_dict = compute_metrics(model, test_loader, device)\n",
    "# Wir geben die entsprechenden Statistiken aus:\n",
    "print('------------------ Test Metrics ----------------------------------------------')\n",
    "print(\"Accuracy \\t {:.3f}\".format(metrics_dict['accuracy']))\n",
    "print(\"Recall on normal test data \\t {:.3f}\".format(metrics_dict['recall_normal']))\n",
    "print(\"Recall on pneumonia test data \\t {:.3f}\".format(metrics_dict['recall_pneumonia']))\n",
    "print(\"Recall on COVID test data \\t {:.3f}\".format(metrics_dict['recall_covid']))\n",
    "print(\"Test Loss \\t {}\".format(metrics_dict[\"validation loss\"]))\n",
    "print(\"------------------------------------------------------------------------------\")"
   ]
  },
  {
   "cell_type": "markdown",
   "metadata": {},
   "source": [
    "Nun erstellen wir auch noch die __\"Confusion Matrix\"__ für das trainierte Netzwerk auf dem Testset."
   ]
  },
  {
   "cell_type": "code",
   "execution_count": null,
   "metadata": {
    "colab": {
     "base_uri": "https://localhost:8080/",
     "height": 295
    },
    "id": "n6f5MQqtMv2B",
    "outputId": "a3408b5c-ac13-451c-c993-717e98c17908"
   },
   "outputs": [],
   "source": [
    "from helper_functions_covid import plot_confusion_matrix\n",
    "\n",
    "conf_matrix = metrics_dict[\"confusion matrix\"]\n",
    "\n",
    "plot_confusion_matrix(conf_matrix)"
   ]
  },
  {
   "cell_type": "markdown",
   "metadata": {},
   "source": [
    "### GradCAM\n",
    "\n",
    "Ein häufig (zu recht) geäußerter Kritikpunkt an Deep-Learning-Methoden ist, dass es sich bei den trainierten Netzen um \"Black Boxes\" handelt. Aufgrund der schieren Komplexität und der Anzahl der freien Parameter ist es - im Gegensatz zu regelbasierten Systemen oder klassischen Algorithmen - nicht einfach, herauszufinden, nach welchen Regeln oder Kriterien ein neuronales Netzwerk seine Entscheidungen fällt. \n",
    "\n",
    "Aufgrund der Bedeutung dieser Frage gibt es zum Glück einiges an Forschung und Fortschritt auf diesem Gebiet. \n",
    "\n",
    "Ein Ansatz ist __Feature Attribution__: Feature Attribution bedeutet zu untersuchen, welche \"Features\" eines Datenpunktes den Output eines Classifiers am stärksten beeinflussen. \n",
    "\n",
    "Bei der Klassifikation von Bilder kann man zum Beispiel untersuchen, welche Pixel eines Inputbildes die vorhergesagten Klassewahrscheinlichkeiten am stärksten beeinflussen würden, wenn man an diesen \"ein wenig wackeln\" würde.\n",
    "\n",
    "Ein solcher Algorithmus ist z.B. [GradCAM](https://arxiv.org/abs/1610.02391), den wir auf unserem trainierten Netz ausprobieren wollen.\n",
    "\n",
    "Besonders lehrreich ist das, wenn wir wissen, was die wirkliche Klasse eines Bildes ist, und welche Klasse das Netzwerk dem Datenpunkt zugeordnet hat."
   ]
  },
  {
   "cell_type": "code",
   "execution_count": null,
   "metadata": {
    "colab": {
     "base_uri": "https://localhost:8080/",
     "height": 378
    },
    "id": "fIam_EAKMv2B",
    "outputId": "09a10e38-9aad-4c67-966b-de98c4ee1274"
   },
   "outputs": [],
   "source": [
    "# Eventuell einmal pytorch-gradcam installieren und danach den Kernel nochmals neu starten, \n",
    "# falls diese Zelle nicht ausführbar sein sollte:\n",
    "# !pip install pytorch-gradcam\n",
    "\n",
    "\n",
    "from helper_functions_covid import show_grad_cam\n",
    "\n",
    "# Vorhersagen, die das Netz für die Bilder des Testsets gemacht hat\n",
    "preds = metrics_dict[\"pred_list\"]\n",
    "# Wahre Klassen für die Bilder des Testsets\n",
    "targets = metrics_dict[\"target_list\"]\n",
    "# Pfade zu den Bildern des Testsets\n",
    "paths = metrics_dict[\"paths\"]\n",
    "\n",
    "# Diese Funktion erhält neben den vorhergesagten Klassen, den wahren Klassen und den Dateinamen\n",
    "# der Datenpunkte aus dem Testset (preds, targets, paths) auch das trainierte Netzwerk (model).\n",
    "# Die Funktion berechnet auf der Graphikkarte (device) die entsprechenden Feature-Attribution-Maps für\n",
    "# zufällig gezogene Beispiele aus dem Testset, die vom Netzwerk als \"predicted_label\" klassifiziert \n",
    "# wurden, in Wahrheit aber zur Klasse \"true_label\" gehören.\n",
    "# D.h. wenn sie die Funktion so ausführen, zeigt sie Beispiele an, die als covid Klassifiziert wurden\n",
    "# und auch wirklich zur Klasse \"covid\" gehören.\n",
    "# Probieren sie gerne auch andere Kombinationen aus und beobachten sie, wie sich die Maps\n",
    "# z.B. für korrekte und falsche Vorhersagen unterscheiden.\n",
    "# Mögliche optionen für predicted_laben und true_label sind die Klassen unseres Datensatzes, also\n",
    "# 'covid', 'normal' und 'pneumonia'\n",
    "show_grad_cam(preds, targets, paths, model, device, predicted_label = 'covid', true_label = 'covid')"
   ]
  },
  {
   "cell_type": "markdown",
   "metadata": {
    "id": "VINpG9fIMv2B"
   },
   "source": [
    "Das wars. Wir hoffen, sie konnten in dieser Übung etwas lernen. Laden sie gerne die entsprechenden Bilder (mit Rechtsklick) herunter und kopieren sie die entsprechenden Statistiken, um sie dann in das Miro-Board zu kopieren, das wir für die Abschlussbesprechung verwenden möchten (Link auf HeiCONF)."
   ]
  },
  {
   "cell_type": "code",
   "execution_count": null,
   "metadata": {},
   "outputs": [],
   "source": []
  }
 ],
 "metadata": {
  "accelerator": "GPU",
  "colab": {
   "collapsed_sections": [],
   "name": "Train_Classifier_on_COVID-Chest-X-Rays.ipynb",
   "provenance": []
  },
  "kernelspec": {
   "display_name": "Python 3 (ipykernel)",
   "language": "python",
   "name": "python3"
  },
  "language_info": {
   "codemirror_mode": {
    "name": "ipython",
    "version": 3
   },
   "file_extension": ".py",
   "mimetype": "text/x-python",
   "name": "python",
   "nbconvert_exporter": "python",
   "pygments_lexer": "ipython3",
   "version": "3.8.12"
  },
  "widgets": {
   "application/vnd.jupyter.widget-state+json": {
    "076aaecb0dde496faa19e1de042e3065": {
     "model_module": "@jupyter-widgets/base",
     "model_name": "LayoutModel",
     "state": {
      "_model_module": "@jupyter-widgets/base",
      "_model_module_version": "1.2.0",
      "_model_name": "LayoutModel",
      "_view_count": null,
      "_view_module": "@jupyter-widgets/base",
      "_view_module_version": "1.2.0",
      "_view_name": "LayoutView",
      "align_content": null,
      "align_items": null,
      "align_self": null,
      "border": null,
      "bottom": null,
      "display": null,
      "flex": null,
      "flex_flow": null,
      "grid_area": null,
      "grid_auto_columns": null,
      "grid_auto_flow": null,
      "grid_auto_rows": null,
      "grid_column": null,
      "grid_gap": null,
      "grid_row": null,
      "grid_template_areas": null,
      "grid_template_columns": null,
      "grid_template_rows": null,
      "height": null,
      "justify_content": null,
      "justify_items": null,
      "left": null,
      "margin": null,
      "max_height": null,
      "max_width": null,
      "min_height": null,
      "min_width": null,
      "object_fit": null,
      "object_position": null,
      "order": null,
      "overflow": null,
      "overflow_x": null,
      "overflow_y": null,
      "padding": null,
      "right": null,
      "top": null,
      "visibility": null,
      "width": null
     }
    },
    "1fc11a8d190f4983a5f4f818fc904f61": {
     "model_module": "@jupyter-widgets/controls",
     "model_name": "DescriptionStyleModel",
     "state": {
      "_model_module": "@jupyter-widgets/controls",
      "_model_module_version": "1.5.0",
      "_model_name": "DescriptionStyleModel",
      "_view_count": null,
      "_view_module": "@jupyter-widgets/base",
      "_view_module_version": "1.2.0",
      "_view_name": "StyleView",
      "description_width": ""
     }
    },
    "27f1d0243add4eb684ea2968d6c71b33": {
     "model_module": "@jupyter-widgets/base",
     "model_name": "LayoutModel",
     "state": {
      "_model_module": "@jupyter-widgets/base",
      "_model_module_version": "1.2.0",
      "_model_name": "LayoutModel",
      "_view_count": null,
      "_view_module": "@jupyter-widgets/base",
      "_view_module_version": "1.2.0",
      "_view_name": "LayoutView",
      "align_content": null,
      "align_items": null,
      "align_self": null,
      "border": null,
      "bottom": null,
      "display": null,
      "flex": null,
      "flex_flow": null,
      "grid_area": null,
      "grid_auto_columns": null,
      "grid_auto_flow": null,
      "grid_auto_rows": null,
      "grid_column": null,
      "grid_gap": null,
      "grid_row": null,
      "grid_template_areas": null,
      "grid_template_columns": null,
      "grid_template_rows": null,
      "height": null,
      "justify_content": null,
      "justify_items": null,
      "left": null,
      "margin": null,
      "max_height": null,
      "max_width": null,
      "min_height": null,
      "min_width": null,
      "object_fit": null,
      "object_position": null,
      "order": null,
      "overflow": null,
      "overflow_x": null,
      "overflow_y": null,
      "padding": null,
      "right": null,
      "top": null,
      "visibility": null,
      "width": null
     }
    },
    "2f516019eb554f4893d2241601925ee5": {
     "model_module": "@jupyter-widgets/base",
     "model_name": "LayoutModel",
     "state": {
      "_model_module": "@jupyter-widgets/base",
      "_model_module_version": "1.2.0",
      "_model_name": "LayoutModel",
      "_view_count": null,
      "_view_module": "@jupyter-widgets/base",
      "_view_module_version": "1.2.0",
      "_view_name": "LayoutView",
      "align_content": null,
      "align_items": null,
      "align_self": null,
      "border": null,
      "bottom": null,
      "display": null,
      "flex": null,
      "flex_flow": null,
      "grid_area": null,
      "grid_auto_columns": null,
      "grid_auto_flow": null,
      "grid_auto_rows": null,
      "grid_column": null,
      "grid_gap": null,
      "grid_row": null,
      "grid_template_areas": null,
      "grid_template_columns": null,
      "grid_template_rows": null,
      "height": null,
      "justify_content": null,
      "justify_items": null,
      "left": null,
      "margin": null,
      "max_height": null,
      "max_width": null,
      "min_height": null,
      "min_width": null,
      "object_fit": null,
      "object_position": null,
      "order": null,
      "overflow": null,
      "overflow_x": null,
      "overflow_y": null,
      "padding": null,
      "right": null,
      "top": null,
      "visibility": null,
      "width": null
     }
    },
    "82060550eeac4dae9eb34252d2e8f641": {
     "model_module": "@jupyter-widgets/controls",
     "model_name": "FloatProgressModel",
     "state": {
      "_dom_classes": [],
      "_model_module": "@jupyter-widgets/controls",
      "_model_module_version": "1.5.0",
      "_model_name": "FloatProgressModel",
      "_view_count": null,
      "_view_module": "@jupyter-widgets/controls",
      "_view_module_version": "1.5.0",
      "_view_name": "ProgressView",
      "bar_style": "success",
      "description": "100%",
      "description_tooltip": null,
      "layout": "IPY_MODEL_2f516019eb554f4893d2241601925ee5",
      "max": 574769405,
      "min": 0,
      "orientation": "horizontal",
      "style": "IPY_MODEL_9563661e32ed40a585f1f939b957e28e",
      "value": 574769405
     }
    },
    "9563661e32ed40a585f1f939b957e28e": {
     "model_module": "@jupyter-widgets/controls",
     "model_name": "ProgressStyleModel",
     "state": {
      "_model_module": "@jupyter-widgets/controls",
      "_model_module_version": "1.5.0",
      "_model_name": "ProgressStyleModel",
      "_view_count": null,
      "_view_module": "@jupyter-widgets/base",
      "_view_module_version": "1.2.0",
      "_view_name": "StyleView",
      "bar_color": null,
      "description_width": "initial"
     }
    },
    "e79517da3159458c8a91cea11d5bfeea": {
     "model_module": "@jupyter-widgets/controls",
     "model_name": "HBoxModel",
     "state": {
      "_dom_classes": [],
      "_model_module": "@jupyter-widgets/controls",
      "_model_module_version": "1.5.0",
      "_model_name": "HBoxModel",
      "_view_count": null,
      "_view_module": "@jupyter-widgets/controls",
      "_view_module_version": "1.5.0",
      "_view_name": "HBoxView",
      "box_style": "",
      "children": [
       "IPY_MODEL_82060550eeac4dae9eb34252d2e8f641",
       "IPY_MODEL_f86e1989a14e4735b76f83058f3781b1"
      ],
      "layout": "IPY_MODEL_27f1d0243add4eb684ea2968d6c71b33"
     }
    },
    "f86e1989a14e4735b76f83058f3781b1": {
     "model_module": "@jupyter-widgets/controls",
     "model_name": "HTMLModel",
     "state": {
      "_dom_classes": [],
      "_model_module": "@jupyter-widgets/controls",
      "_model_module_version": "1.5.0",
      "_model_name": "HTMLModel",
      "_view_count": null,
      "_view_module": "@jupyter-widgets/controls",
      "_view_module_version": "1.5.0",
      "_view_name": "HTMLView",
      "description": "",
      "description_tooltip": null,
      "layout": "IPY_MODEL_076aaecb0dde496faa19e1de042e3065",
      "placeholder": "​",
      "style": "IPY_MODEL_1fc11a8d190f4983a5f4f818fc904f61",
      "value": " 548M/548M [01:29&lt;00:00, 6.42MB/s]"
     }
    }
   }
  }
 },
 "nbformat": 4,
 "nbformat_minor": 4
}
