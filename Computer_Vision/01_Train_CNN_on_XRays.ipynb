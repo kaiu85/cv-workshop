{
  "cells": [
    {
      "cell_type": "markdown",
      "metadata": {
        "id": "EJd31xoxjvHn"
      },
      "source": [
        "# Klassifikation von Röntgen-Thoraxbildern mit Convolutional Neural Nets\n",
        "\n",
        "In diesem Notebook wollen wir uns anschauen, was alles nötig ist, um ein neuronales Netzwerk auf Röntgenthoraxaufnahmen zu trainieren, die Normalbefunde, Befunde bei Patienten mit einer bakteriellen Pneumonie, und Befunde bei Patienten mit COVID-19 beinhalten."
      ]
    },
    {
      "cell_type": "markdown",
      "metadata": {
        "id": "GDFUQ0aUMv1-"
      },
      "source": [
        "Da Python/Jupyter nur die allernötigsten grundlegenden Funktionen und Datentypen bereitstellt, und man das Rad nicht immer neu erfinden möchte, arbeitet man *sehr viel* mit sogenannten Bibliotheken, die verschiedene vorgefertigte Funktionalitäten bereitstellen.\n",
        "\n",
        "Einige haben sie im Rahmen des Programmierkurses schon kennen gelernt. Man fügt Bibliotheken oder Teile davon mit dem \"import\" Befehl hinzu.\n",
        "\n",
        "### Cave\n",
        "\n",
        "Die Anzahl an verfügbaren Röntgen-Thoraxaufnahmen hat sich seit der Erstellung dieser Notebooks deutlich erhöht. Die Diskussion bezieht sich noch auf den Stand im Sommer 2020, als noch *sehr wenige* Röntgenthoraxaufnahmen von COVID-19 Pneumonien frei verfügbar waren.\n",
        "\n",
        "### Einrichten der Umgebung\n",
        "\n",
        "Fangen wir damit an, die Bibliotheken, die wir brauchen werden, zu importieren."
      ]
    },
    {
      "cell_type": "code",
      "execution_count": 1,
      "metadata": {
        "colab": {
          "base_uri": "https://localhost:8080/"
        },
        "id": "sQY6YneXMv1-",
        "outputId": "50b6781c-0744-49ef-ef08-7d6e98404707"
      },
      "outputs": [
        {
          "output_type": "stream",
          "name": "stdout",
          "text": [
            "1 GPU(s) available.\n",
            "Using device: cuda:0\n"
          ]
        }
      ],
      "source": [
        "# PyTorch ist neben TensorFlow eines der zwei großen \"Frameworks\" für\n",
        "# Deep-Learning, es stellt die Grundlegenden Funktionen bereit, um tiefe neuronale Netze\n",
        "# zu Trainieren und Anzuwenden. Man importiert PyTorch\n",
        "# und verschiedene Sub-Module wie folgt:\n",
        "import torch\n",
        "from torch.utils.data import DataLoader\n",
        "import torch.optim as optim\n",
        "import torch.nn as nn\n",
        "\n",
        "# Etwas Zufall ist nie schlecht, sonst wird das Leben so langweilig\n",
        "# Random stellt Zufallszahlen und zufällige Operationen bereit, z.B. um Listen zufällig zu \"Mischen\"\n",
        "import random\n",
        "\n",
        "# Zufallszahlen können auf einem deterministischem Computer nie wirklich zufällig sein, aber es gibt\n",
        "# Algorithmen, die so schwer vorherzusagen sind, dass die resultierenden Ausgaben sehr zufällig\n",
        "# \"aussehen\". Dennoch sind diese Sequenzen immer deterministisch. D.h. startet man bei einer bestimmten Zahl,\n",
        "# so erhält man immer eine bestimmte nächste Zahl, usw.\n",
        "# Als \"Seed\" eines \"Zufallszahlengenerators\" bezeichnet man die Zahl, bei der man diese pseudozufällige Sequenz beginnt.\n",
        "random.seed(0)\n",
        "\n",
        "# Um Ergebnisse darzustellen benutzen wir matplotlib und seaborn, das auf matplotlib aufbaut.\n",
        "# Beides sind tolle Bibliotheken um schicke Abbildungen zu machen (bestimmt auch für Doktor- und andere Abschlussarbeiten nützlich)\n",
        "# matplotlib: https://matplotlib.org/\n",
        "# seaborn: https://seaborn.pydata.org/\n",
        "import seaborn as sns\n",
        "import matplotlib.pyplot as plt\n",
        "\n",
        "# Numpy ist *die* Bibliothek in Python für alles, was mit Zahlen\n",
        "# und Matrizen zu tun hat.\n",
        "import numpy as np\n",
        "\n",
        "# Pandas erlaubt es uns, relativ einfach mit Daten im \"Tabellenformat\"\n",
        "# zu arbeiten\n",
        "import pandas as pd\n",
        "\n",
        "# Ein wichtiger Faktor in der Entwicklung des maschinellen Lernens war der Zuwachs an günstiger\n",
        "# paralleler Rechenkapazität, die vor allem durch die Entwicklung immer leistungsfähigerer\n",
        "# Endandwender-Graphikkarten zum Gaming vorangetrieben wurde.\n",
        "\n",
        "# Wir testen im folgenden, ob und wieviele Graphikkarten auf dem Notebook-Server zur Verfügung\n",
        "# stehen und wählen eine davon aus (bitte nicht ändern, sonst kommen sie eventuell\n",
        "# ihren Mitstudierenden ins Gehege).\n",
        "\n",
        "gpu_nr = 0\n",
        "if torch.cuda.is_available():\n",
        "    print('%d GPU(s) available.' % torch.cuda.device_count())\n",
        "\n",
        "    if torch.cuda.device_count() > gpu_nr:\n",
        "        device = \"cuda:%d\" % gpu_nr\n",
        "    else:\n",
        "        device = \"cpu\"\n",
        "else:\n",
        "    device = \"cpu\"\n",
        "\n",
        "print('Using device: ' + device)"
      ]
    },
    {
      "cell_type": "code",
      "source": [
        "# Zeilen, die mit \"!\" beginnen, werden nicht as Python-Code ausgeführt, sondern\n",
        "# als Befehle für das jeweilige Betriebssystem\n",
        "\n",
        "# Wir \"klonen\" das Github-Repository auf die lokale Colab-Instanz\n",
        "!git clone https://github.com/kaiu85/cv-workshop/"
      ],
      "metadata": {
        "colab": {
          "base_uri": "https://localhost:8080/"
        },
        "id": "wStvMoSqrOPB",
        "outputId": "8dfc10db-b188-456e-8897-b7adb8162e36"
      },
      "execution_count": 2,
      "outputs": [
        {
          "output_type": "stream",
          "name": "stdout",
          "text": [
            "Cloning into 'cv-workshop'...\n",
            "remote: Enumerating objects: 106, done.\u001b[K\n",
            "remote: Counting objects: 100% (106/106), done.\u001b[K\n",
            "remote: Compressing objects: 100% (105/105), done.\u001b[K\n",
            "remote: Total 106 (delta 36), reused 51 (delta 0), pack-reused 0\u001b[K\n",
            "Receiving objects: 100% (106/106), 10.52 MiB | 17.78 MiB/s, done.\n",
            "Resolving deltas: 100% (36/36), done.\n"
          ]
        }
      ]
    },
    {
      "cell_type": "code",
      "source": [
        "# Wir kopieren \"helper_functions_covid.py\" in den Ordner, in dem auf dieses\n",
        "# Notebook liegt\n",
        "!cp cv-workshop/Computer_Vision/helper_functions_covid.py ."
      ],
      "metadata": {
        "id": "Bj__jZpEMUNU"
      },
      "execution_count": 3,
      "outputs": []
    },
    {
      "cell_type": "markdown",
      "source": [
        "Schauen sie sich gerne den Inhalt dieser Python-Datei an, in dem sie diese über den Datei Explorer links aufsuchen und per Doppelklick öffnen."
      ],
      "metadata": {
        "id": "XE8eALvVMZMx"
      }
    },
    {
      "cell_type": "markdown",
      "source": [
        "![Bildschirmfoto 2023-11-26 um 16.38.25.png](data:image/png;base64,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)"
      ],
      "metadata": {
        "id": "_XZuzWL-MjXJ"
      }
    },
    {
      "cell_type": "code",
      "source": [
        "# Wir kopieren auch noch zwei Dateien, die wir später als Beispiele benötigen\n",
        "!cp cv-workshop/Computer_Vision/imagenet_classes.txt .\n",
        "!cp cv-workshop/Computer_Vision/rochen.jpg ."
      ],
      "metadata": {
        "id": "b74GanQ-MT-8"
      },
      "execution_count": 4,
      "outputs": []
    },
    {
      "cell_type": "code",
      "source": [
        "!wget https://www.dropbox.com/s/b0n0t0001yllzkg/covid_dataset_full.bz2?dl=1 -O covid_dataset_full.bz2"
      ],
      "metadata": {
        "colab": {
          "base_uri": "https://localhost:8080/"
        },
        "id": "_YoiYf7-kAl5",
        "outputId": "03664b74-d695-4477-f359-e98f7ce6656c"
      },
      "execution_count": null,
      "outputs": [
        {
          "output_type": "stream",
          "name": "stdout",
          "text": [
            "--2023-11-26 15:38:11--  https://www.dropbox.com/s/b0n0t0001yllzkg/covid_dataset_full.bz2?dl=1\n",
            "Resolving www.dropbox.com (www.dropbox.com)... 162.125.81.18, 2620:100:6031:18::a27d:5112\n",
            "Connecting to www.dropbox.com (www.dropbox.com)|162.125.81.18|:443... connected.\n",
            "HTTP request sent, awaiting response... 302 Found\n",
            "Location: /s/dl/b0n0t0001yllzkg/covid_dataset_full.bz2 [following]\n",
            "--2023-11-26 15:38:12--  https://www.dropbox.com/s/dl/b0n0t0001yllzkg/covid_dataset_full.bz2\n",
            "Reusing existing connection to www.dropbox.com:443.\n",
            "HTTP request sent, awaiting response... 302 Found\n",
            "Location: https://uc457971947d57588551af042c17.dl.dropboxusercontent.com/cd/0/get/CIQL3ynfahns9J6Bl0porM1itFtIUoZkno5rXmHigNyD9wq0oBnSQQ2fFfWqXcpmmdFrE6n3rlcPBmYV3j9MlELhDPhgbatImPedYL79IGl0CEN6wUT0V1WujPJ_didj4qBx71jOY9lw5RwY789MW1Ok/file?dl=1# [following]\n",
            "--2023-11-26 15:38:12--  https://uc457971947d57588551af042c17.dl.dropboxusercontent.com/cd/0/get/CIQL3ynfahns9J6Bl0porM1itFtIUoZkno5rXmHigNyD9wq0oBnSQQ2fFfWqXcpmmdFrE6n3rlcPBmYV3j9MlELhDPhgbatImPedYL79IGl0CEN6wUT0V1WujPJ_didj4qBx71jOY9lw5RwY789MW1Ok/file?dl=1\n",
            "Resolving uc457971947d57588551af042c17.dl.dropboxusercontent.com (uc457971947d57588551af042c17.dl.dropboxusercontent.com)... 162.125.81.15, 2620:100:6031:15::a27d:510f\n",
            "Connecting to uc457971947d57588551af042c17.dl.dropboxusercontent.com (uc457971947d57588551af042c17.dl.dropboxusercontent.com)|162.125.81.15|:443... connected.\n",
            "HTTP request sent, awaiting response... 200 OK\n",
            "Length: 6499579485 (6.1G) [application/binary]\n",
            "Saving to: ‘covid_dataset_full.bz2’\n",
            "\n",
            "covid_dataset_full.   9%[>                   ] 560.01M  12.2MB/s    eta 8m 32s "
          ]
        }
      ]
    },
    {
      "cell_type": "code",
      "source": [
        "!bzip2 -dk covid_dataset_full.bz2"
      ],
      "metadata": {
        "id": "YoIRSDHOlUG8"
      },
      "execution_count": null,
      "outputs": []
    },
    {
      "cell_type": "code",
      "source": [
        "!tar -xf covid_dataset_full"
      ],
      "metadata": {
        "id": "_DaAYaY0sbgo"
      },
      "execution_count": null,
      "outputs": []
    },
    {
      "cell_type": "markdown",
      "metadata": {
        "id": "zyDV3uVxMv1-"
      },
      "source": [
        "### Sichten der Trainingsdaten\n",
        "\n",
        "Als nächstes bereiten wir unsere Trainingsdaten vor. Wir haben einen Datensatz aus 15537 PA-Thoraxröntgenbildern zusammengestellt, die unauffällige Befunde, Befunde bei Patienten mit einer bakteriellen Pneumonie und Befunde bei Patienten mit einer COVID-19-Pneumonie beinhalten."
      ]
    },
    {
      "cell_type": "code",
      "execution_count": null,
      "metadata": {
        "id": "Bq_3U5YGjvHr"
      },
      "outputs": [],
      "source": [
        "# In dem Ordner 'data_path' liegen unsortiert die 15537 Bilder als jpg oder png-Dateien.\n",
        "#\n",
        "# Auf Linux und macOS Systemen werden Ordnerhierarchien mit '/' getrennt\n",
        "# '..' heißt, einen Ordner in der Hierarchie nach oben gehen.\n",
        "# '.' bezeichnet den Ordner, in dem man sich gerade befindet.\n",
        "#\n",
        "# annotation_file verweist auf eine *lange* Textdatei, die für jedes Bild\n",
        "# den Dateinamen und die Klasse (COVID, normal, pneumonia) enthält.\n",
        "# Diese heißt \"annotation.txt\" und liegt im selben Ordner wie dieses Notebook ('.').\n",
        "# Schauen sie gerne mal rein.\n",
        "\n",
        "data_path = './covid_dataset_full/data'\n",
        "annotation_file = './covid_dataset_full/data.txt'\n",
        "\n",
        "# Zunächst Lesen wir die Textdatei ein. Wir benutzen dazu das Paket \"pandas\", das es uns relativ einfach erlaubt,\n",
        "# mit Daten, die ein \"Tabellenformat\" haben, zu arbeiten.\n",
        "data_table = pd.read_csv(annotation_file, sep=' ', header=None, names=['Image','Class'])\n",
        "# Wir geben dabei der ersten Spalte den Namen \"Image\" und der zweiten Spalte den Namen \"Class\"\n",
        "\n",
        "# Beenden wir eine Zelle mit dem Namen einer Variablen, wird in Jupyter (und Colab)\n",
        "# die entsprechende Variable ausgegeben, in unserem Fall die Liste der Trainingsbilder mit\n",
        "# dem jeweiligen Dateinamen und der annotierten Klasse.\n",
        "\n",
        "data_table"
      ]
    },
    {
      "cell_type": "code",
      "execution_count": null,
      "metadata": {
        "id": "RKOnOICtjvHr"
      },
      "outputs": [],
      "source": [
        "# Wie sie sehen, werden die ersten und die letzten Zeilen ausgegeben.\n",
        "# Geben wir nun nur die Zeilen aus, die COVID-19 Bilder enthalten\n",
        "\n",
        "covid = data_table[ data_table['Class'] == 'COVID-19' ]\n",
        "# Dieser etwas sperrige Ausdruckt heißt:\n",
        "# \"Gibt mir die Elemente von data_table, für die \"Class\" gleich \"COVID-19\" ist.\"\n",
        "\n",
        "covid"
      ]
    },
    {
      "cell_type": "code",
      "execution_count": null,
      "metadata": {
        "id": "P350TxHBMv1-"
      },
      "outputs": [],
      "source": [
        "# Wir erstellen nun genau so noch zwei Tabellen, die jeweils die unauffälligen Befunde (\"normal\") und\n",
        "# die der bakteriellen Pneumonien (\"pneumonia\") enthalten.\n",
        "\n",
        "normal = data_table[ data_table['Class'] == 'normal' ]\n",
        "pneumonia = data_table[ data_table['Class'] == 'pneumonia' ]\n",
        "\n",
        "# Nun zählen wir, wie viel von jeder Bildsorte wir haben.\n",
        "# len(x) gibt hierbei die Länge einer Liste an.\n",
        "# covid.index enthält die Zeilenindices (1,2,3,...) der covid-Tabelle (ganz linke Spalte)\n",
        "\n",
        "print('Number of COVID Images:')\n",
        "print(len(covid.index))\n",
        "\n",
        "print('Number of Normal Images:')\n",
        "print(len(normal.index))\n",
        "\n",
        "print('Number of Pneumonia Images:')\n",
        "print(len(pneumonia.index))"
      ]
    },
    {
      "cell_type": "code",
      "execution_count": null,
      "metadata": {
        "id": "j4nepvspjvHr"
      },
      "outputs": [],
      "source": [
        "# Mit \"[]\" können wir auf bestimmte Spalten der Tabellen zugreifen. Die \"Image\" Spalte enthält die Dateinamen.\n",
        "# Der Einfachheit halber merken wir uns diese als Listen.\n",
        "filenames_covid = covid['Image'].tolist()\n",
        "filenames_normal = normal['Image'].tolist()\n",
        "filenames_pneumonia = pneumonia['Image'].tolist()"
      ]
    },
    {
      "cell_type": "markdown",
      "metadata": {
        "id": "l7Xs67OyMv1_",
        "outputId": "60e249a6-4213-40a1-8627-6a71a3f47699"
      },
      "source": [
        "Zunächst schauen wir uns ein paar Beispiele der Trainingsdaten an.\n",
        "Dafür benutzen wir eine Hilfsfunktion, die den Pfad zu dem Bilderordner sowie eine Liste mit Dateinamen erhält und dann 5 Beispielbilder anzeigt.\n",
        "\n",
        "Wir beginnen mit PA-Aufnahmen von Patientinnen mit COVID-19"
      ]
    },
    {
      "cell_type": "code",
      "source": [
        "!pip install pytorch-gradcam"
      ],
      "metadata": {
        "id": "s6HMXjIduHg7"
      },
      "execution_count": null,
      "outputs": []
    },
    {
      "cell_type": "code",
      "execution_count": null,
      "metadata": {
        "id": "BIO1094zjvHs"
      },
      "outputs": [],
      "source": [
        "from helper_functions_covid import show_examples\n",
        "\n",
        "show_examples(data_path, filenames_covid)"
      ]
    },
    {
      "cell_type": "markdown",
      "metadata": {
        "id": "mXkGyKpcjvHs"
      },
      "source": [
        "Führen sie die vorhergehende Zelle gerne noch einige Male aus und überzeugen sie sich, dass immer andere, zufällig gezogene Beispiele gezeigt werden.\n",
        "\n",
        "Betrachten sie die Bilder und überlegen sie sich schon einmal, welche Probleme unser Netzwerk später lösen muss.\n",
        "\n",
        "Einen kleinen Refresher zur Radiologie der akuten COVID-19 Pneumonie gibt es [hier](https://www.bmj.com/content/370/bmj.m2426).\n",
        "\n",
        "### Erste Aufgabe\n",
        "\n",
        "Als erste __kleine Aufgabe__: Schreiben sie Code, um sich auch ein paar Beispiele der Normalbefunde und der Befunde bei Patienten mit einer bakteriellen Pneumonie anzuschauen."
      ]
    },
    {
      "cell_type": "code",
      "execution_count": null,
      "metadata": {
        "id": "TtOD358UMv1_"
      },
      "outputs": [],
      "source": [
        "# Schauen wir uns noch ein paar Normalbefunde an\n",
        "\n",
        "# Hier beginnt ihr Code\n",
        "\n",
        "# Normalbefunde\n",
        "show_examples(data_path, filenames_normal)"
      ]
    },
    {
      "cell_type": "code",
      "execution_count": null,
      "metadata": {
        "id": "g4Zch2l8jvHs"
      },
      "outputs": [],
      "source": [
        "# Und ein paar Befunde von Patienten mit einer bakteriellen Pneumonie\n",
        "\n",
        "# Hier beginnt ihr Code\n",
        "\n",
        "# Bakterielle Pneumonie\n",
        "show_examples(data_path, filenames_pneumonia)"
      ]
    },
    {
      "cell_type": "markdown",
      "metadata": {
        "id": "KEzqn1jdjvHs"
      },
      "source": [
        "<details><summary>Klicken sie <b>hier</b> für eine mögliche Lösung</summary>\n",
        "<p>\n",
        "\n",
        "```python\n",
        "    \n",
        "# Normalbefunde\n",
        "show_examples(data_path, filenames_normal)\n",
        "# Bakterielle Pneumonie\n",
        "show_examples(data_path, filenames_pneumonia)\n",
        "    \n",
        "```"
      ]
    },
    {
      "cell_type": "markdown",
      "metadata": {
        "id": "UATCdvWTZ8XS"
      },
      "source": [
        "### Endlich: Neuronale Netze\n",
        "\n",
        "Wie bereits in der Vorlesung angeklungen ist, ist es eine große Kunst für komplexe Probleme eine passende \"Architektur\" für ein künstliches neuronales Netz zu finden. D.h. die Anzahl, Typ und Reihenfolge der einzelnen Layer, sowie deren Größe, die Art der Nichtlinearitäten (\"Squashing Functions\"), ...\n",
        "\n",
        "Eine sehr gute Einführung und Wiederholung ins Thema \"Deep Learning\" finden sie hier: https://www.youtube.com/watch?v=5tvmMX8r_OM\n",
        "\n",
        "Glücklicher Weise ist eines der ersten Probleme, das gut mit künstlichen neuronalen Netzen gelöst wurde, das Erkennen von Gegenständen in Bildern.\n",
        "\n",
        "Deshalb bietet PyTorch (ebenso wie TensorFlow) schon eine relativ große Bandbreite an optimierten und gut evaluierten Architekturen an, aus denen man sich ein Netzwerk heraussuchen kann. Prinzipiell ist das, wenn man wenig bzw. keine Erfahrung mit dem Design neuronaler Netze hat, meist ein guter erster Schritt.\n",
        "\n",
        "Bei Bildern ist eine besonders beliebte und erfolgreiche Architektur die der \"Convolutional Neural Nets\". Diese Netzwerke haben eine Architektur, die gleichzeitig die Anzahl der zu optimierenden Verbindungen bzw. Gewichte reduziert und dabei dem Netz auch das implizite Vorwissen mitgibt, dass die Identität eines abgebildeten Objektes nicht von dessen Position auf dem Bild (\"Translationsinvarianz\") oder dessen Größe im Bildausschnitt (\"Skaleninvarianz\") abhängen sollte. Eine sehr gute Einführung in Bildverarbeitung mit tiefen neuronalen Netzen und in Convolutional Neural Netz finden sie hier: https://www.youtube.com/watch?v=AjtX1N_VT9E\n",
        "\n",
        "Man kann die Netze untrainiert herunterladen, d.h. alle Netzwerkgewichte werden mit zufälligen Werten initialisiert. Oder aber man kann Netzwerke herunterladen, die schon auf bestimmten Standarddatensätzen trainiert wurden. Bei Bildern ist das meist ImageNet, ein Datensatz der mehrere zehntausend Fotos von tausend verschiedenen Klassen enthält. Eine Textdatei, die die einzelnen Klassen aufzählt, finden sie in dem Ordner, in dem auch dieses Notebook liegt. Sie heißt \"imagenet_classes.txt\". Ausführliche Information zum ImageNet Datensatz und Beispielbilder einzelner Klassen finden sie auf der [ImageNet](http://image-net.org/challenges/LSVRC/2012/analysis/) Homepage.\n",
        "\n",
        "Um ein Gefühl dafür zu bekommen, wie man mit neuronalen Netzen in Python umgeht, laden wir zunächst ein auf ImageNet vortrainiertes VGG16-Netz (dabei handelt es sich um eine bestimmte Form eines Convolutional Neural Nets, s. https://arxiv.org/abs/1409.1556) herunter und zeigen diesem einige Bilder."
      ]
    },
    {
      "cell_type": "code",
      "execution_count": null,
      "metadata": {
        "scrolled": false,
        "id": "THki6D5qjvHs"
      },
      "outputs": [],
      "source": [
        "from PIL import Image\n",
        "\n",
        "# Wir importieren die Klasse \"vgg16\", die Methoden bereitstellt, um\n",
        "# (vortrainierte) Netze dieser Architektur zu erzeugen\n",
        "from torchvision.models import vgg16\n",
        "\n",
        "# Eine Funktion, die die Bilder so zuschneidet, dass sie zum Input Format (224x224 Pixel)\n",
        "# des Netzwerkes passen.\n",
        "from helper_functions_covid  import val_transformer\n",
        "\n",
        "# Wir erzeugen eine Instanz der Modellklasse vgg16, die auf Imagenet vortrainiert wurde (pretrained == True)\n",
        "# und schicken sie mit .to(device) direkt auf die Graphikkarte, die wir für die Berechnungen benutzen\n",
        "vgg = vgg16(pretrained=True).to(device)\n",
        "\n",
        "# Zu demonstrationszwecken laden wir das (rechtefreie) Beispielbild rochen.jpg, das sich im gleichen Ordner befindet,\n",
        "# wie dieses Notebook (Tip: Über den Upload-Button der Ordner-Ansicht kann man auch eigene Dateien auf den\n",
        "# Jupyter-Server hochladen, allerdings kommt in der nächsten Zelle auch ein einfacherer Weg, wie sie das Netz\n",
        "# auf eigenen Bildern ausprobieren können)\n",
        "\n",
        "# Bild laden\n",
        "img = Image.open('rochen.jpg')\n",
        "\n",
        "# Bildgröße vorher ausgeben\n",
        "print('Bildgröße vorher:')\n",
        "print(img.size)\n",
        "\n",
        "# Bild für das Netzwerk transformieren\n",
        "img_t = val_transformer(img)\n",
        "\n",
        "# Bildgröße nachher ausgeben\n",
        "print('Bildgröße nachher:')\n",
        "print(img_t.shape)\n",
        "\n",
        "# Bild anzeigen\n",
        "plt.imshow(img_t.permute(1,2,0))"
      ]
    },
    {
      "cell_type": "markdown",
      "metadata": {
        "id": "-0vmElO1jvHt"
      },
      "source": [
        "<details><summary>Warum ist die Größe 3x224x224? Klicken sie <b>hier</b> für die Antwort.</summary>\n",
        "<p>\n",
        "Es handelt es sich um ein Farbbild mit 3 Kanälen R G B. Können Sie sich die einzelnen Kanäle anzeigen lassen?"
      ]
    },
    {
      "cell_type": "code",
      "execution_count": null,
      "metadata": {
        "id": "-m1lp7hUjvHt"
      },
      "outputs": [],
      "source": [
        "# Wir verpacken das Bild noch so, dass das Netzwerk es als Input annimmt\n",
        "# Dazu machen wir aus dem einzelnen Bild einen Stapel (engl. \"batch\").\n",
        "# Das Netzwerk erwartet nämlich immer einen ganzen Stapel an Bildern, die parallel verarbeitet\n",
        "# werden, um die Parallelität moderner Hardware (Graphikkarten, ...) besser auszunutzen.\n",
        "# Dieser Stapel enthält in unserem Fall zwar nur ein einziges Bild, aber damit\n",
        "# das Netzwerk versteht, was es tun soll, müssen wir diese formale Konvention erfüllen.\n",
        "# Deshalb fügen wir einen \"Stapelindex\" als erste Dimension hinzu (mit unsqueeze) und schicken dann den \"Stapel\"\n",
        "# zur Graphikkarte\n",
        "batch_t = torch.unsqueeze(img_t, 0).to(device)\n",
        "\n",
        "# Wir setzen das Netzwerk in den Auswerte-Modus (manche Netze werden während des Trainings etwas anders ausgewertet\n",
        "# als wenn sie fertig trainiert im Einsatz sind)\n",
        "vgg.eval()\n",
        "\n",
        "# Dieser unscheinbare Befehl schickt unseren Bilderstapel (bestehend aus einem einzelnen Bild)\n",
        "# auf der Graphikkarte durch das neuronale Netz und liefert die Vorhersagen des neuronalen\n",
        "# Netzes für die Klasse des dargestellten Objektes. Dabei kennt das Netz natürlich nur die\n",
        "# 1000 Klassen, die im ImageNet Datensatz vorhanden sind, auf dem es trainiert wurde.\n",
        "out = vgg(batch_t)\n",
        "\n",
        "# Wir schauen uns die Output-Struktur mal an.\n",
        "print(out.shape)"
      ]
    },
    {
      "cell_type": "code",
      "execution_count": null,
      "metadata": {
        "id": "E1wVJ1kmjvHt"
      },
      "outputs": [],
      "source": [
        "# Wir sehen, dass wir ebenfalls einen Stapel erhalten haben, der einen einzelnen Vektor mit\n",
        "# 1000 Einträgen erhält. Diese können wir in die Wahrscheinlichkeit umrechnen, die das\n",
        "# neuronale Netz für jede der 1000 ImageNet Klassen vorhergesagt hat. Dazu haben wir eine\n",
        "# kleine Hilfsfunktion geschrieben\n",
        "from helper_functions_covid import print_imagenet_predictions\n",
        "\n",
        "# Gibt die 5 Klassen mit der höchsten vorhergesagten Wahrscheinlichkeit aus\n",
        "print_imagenet_predictions(out,5)"
      ]
    },
    {
      "cell_type": "markdown",
      "metadata": {
        "id": "SzjWHgKOjvHt"
      },
      "source": [
        "Das Netzwerk erkennt den Rochen also relativ gut. Das liegt daran, dass \"stingray\" eine der 1000 Klassen ist, die im ImageNet-Datensatz enthalten sind und mit denen das Netz trainiert wurde. Falls sie möchten, können sie sich eine Liste der 1000 Klassen [hier](imagenet_classes.txt) anschauen.\n",
        "\n",
        "Beispiele der Bilder und eine genaue Beschreibung des Datensatzes, mit dem die Netze vortrainiert worden sind, finden sie auf der [ImageNet](http://image-net.org/challenges/LSVRC/2012/analysis/) Homepage.\n",
        "\n",
        "Wenn sie die nächste Zelle ausführen, erscheint ein kleiner Upload-Button. Falls sie möchten, können sie hier ein eigenes Bild (z.B. aus dem Web) hochladen und das Netzwerk einen Tipp abgeben lassen, was darauf zu sehen sein könnte.\n",
        "\n",
        "__Beachte:__ Nach dem erfolgreichen Upload ändert sich die Zahl hinter \"Upload\" von \"(0)\" zu \"(1)\".\n",
        "Führen sie dann die nächste Zelle auf, um das Bild anzuzeigen und die Vorhersage zu starten."
      ]
    },
    {
      "cell_type": "code",
      "execution_count": null,
      "metadata": {
        "scrolled": true,
        "id": "unJ58N29jvHt"
      },
      "outputs": [],
      "source": [
        "# Die nächsten 3 Zeilen erzeugen nur ein Upload Widget\n",
        "import ipywidgets as widgets\n",
        "uploader = widgets.FileUpload()\n",
        "uploader"
      ]
    },
    {
      "cell_type": "code",
      "execution_count": null,
      "metadata": {
        "id": "3Gqc_hc_jvHt"
      },
      "outputs": [],
      "source": [
        "from helper_functions_covid import predict_imagenet_class_from_upload\n",
        "\n",
        "# Formatiert den Upload als Stapel, schickt ihn durchs Netzwerk, wertet die\n",
        "# Vorhersagewahrscheinlichkeiten aus und zeigt die Top-5 Klassen an.\n",
        "# Ganz analog zum Beispiel oben.\n",
        "predict_imagenet_class_from_upload(vgg, uploader, 5, device)"
      ]
    },
    {
      "cell_type": "markdown",
      "metadata": {
        "id": "kDNuuWP4jvHt"
      },
      "source": [
        "### Vorgefertigte (und evtl. auch vortrainierte) Netzwerke an eigene Daten anpassen\n",
        "\n",
        "Das Netz, das wir gerade geladen haben wurde trainiert um auf Fotos 1000 (tausend!) verschiedene Objektklassen zu erkennen. Das gleiche gilt für viele weitere CNN-Architekturen, die auf dem ImageNet-Datensatz entwickelt und trainiert wurden.\n",
        "\n",
        "Wir können dieses Netz bereits trainiert herunterladen, in der Hoffnung, dass gewisse Features, z.B. Ecken, Kanten oder Texturen, die bei der Klassifikation von Autos, Hunden, Topfpflanzen oder anderen Gegenständen eine Rolle spielen, uns auch bei unserem Problem weiterhelfen werden. Wir können die Netzwerke jedoch auch zufällig initialisiert laden und lediglich die vorgefertigte Netzwerkarchitektur nutzen.\n",
        "\n",
        "So oder so: Da wir in unseren Daten jedoch 3 Klassen (normal, bakterielle Pneumonie, COVID-Pneumonie) haben, die bereitgestellten Netzwerkarchitekturen jedoch auf dem ImageNet-Datensatz mit 1000 Klassen trainiert und evaluiert worden sind, müssen wir solche vorgefertigen Netzwerk etwas verändern, damit sie auf unsere Daten anwendbar sind.\n",
        "\n",
        "In der Praxis ist es meist so, dass das letzte Layer eines Klassifikationsnetzwerkes ein \"Fully-Connected\" Layer ist, welches eine hochdimensionalen Repräsentation des präsentierten Bildes auf ein Output-Layer weiterleitet, in dem jedes Output-Neuron für eine der Objektklassen steht.\n",
        "\n",
        "In dem VGG-Netzwerk oben beinhaltet das letzte \"hidden layer\" z.B. 4096 Neurone, die eine gelernte, kompakte Repräsentation des gezeigten Bildes darstellen. Diese werden über ein Fully-Connected Layer mit den 1000 Output-Neuronen verbunden, eines für jede ImageNet-Klasse.\n",
        "\n",
        "In solchen Fällen müssen wir lediglich die Anzahl der Output-Neurone auf die Anzahl der Klassen in unserem Datensatz ändern und das letzte Fully-Connected Layer entsprechend anpassen.\n",
        "\n",
        "Wir haben für sie eine Hilfsfunktion bereitgestellt, die dies für fünf bekannte Netzwerkarchitekturen erledigt. Diese sind \"VGG\" (s. oben), \"AlexNet\", \"DenseNet\", \"ResNet\" und \"SqueezeNet\". Sie können zudem auswählen, ob das Netz mit vortrainierten Gewichten (auf dem ImageNet-Datensatz) oder mit zufällig initialisierten Gewichten geladen werden soll. Ob das Vortrainieren auf natürlichen Bildern tatsächlich Vorteile für neuronale Netze auf __medizinischen Bildgebungsdaten__ liefert, ist noch Gegenstand aktueller Forschung. Die finale Performance der Netze, wenn diese lange auf großen medizinischen Datensätzen trainiert werden, wird durch Vortraining auf natürlichen Bildern meist nicht signifikant verbessert. Die Trainingsgeschwindigkeit und die Ergebnisse auf kleinen Datensetzen können jedoch eventuell positiv beeinflusst werden.\n",
        "\n",
        "Auf dieser [Seite](https://www.jeremyjordan.me/convnet-architectures/) finden sie kurze Steckbriefe von VGG-16, AlexNet, DenseNet, und ResNet. Diese Netzwerke haben mehrere zehn Millionen freie Parameter oder mehr. Außerdem haben wir eine SqueezeNet-Architektur vorbereitet. Dieses heißt so, weil sie entwickelt wurde, um auf ein mobiles Endgerät \"gequetscht\" zu werden, so dass z.B. ein Smartphone auch Objekte erkennen kann, ohne dass vorher Bilder \"in die Cloud\" (d.h. auf den Computer von jemand anderem) geschickt werden müssen. Einen kurzen Überblick über SqueezeNet finden sie z.b. [hier](https://towardsdatascience.com/review-squeezenet-image-classification-e7414825581a).\n",
        "\n",
        "Im folgenden erzeugen wir unser angepasstes Netzwerk."
      ]
    },
    {
      "cell_type": "code",
      "execution_count": null,
      "metadata": {
        "id": "PpWHkHb5Mv2A"
      },
      "outputs": [],
      "source": [
        "from helper_functions_covid import get_pretrained_model\n",
        "# Für die Modellarchitektur können sie aus folgenden Architekturen wählen:\n",
        "# 'vgg', 'squeezenet', 'resnet', 'alexnet' und 'densenet'\n",
        "#\n",
        "# Mit dem pretrained-Parameter bestimmen sie, ob das Netz vortrainiert (True)\n",
        "# oder zufällig initialisiert (False) geladen werden soll.\n",
        "model = get_pretrained_model('squeezenet', pretrained = True)\n",
        "\n",
        "# Wir schicken das Netzwerk auf die Graphikkarte\n",
        "model.to(device)"
      ]
    },
    {
      "cell_type": "markdown",
      "metadata": {
        "id": "ZZPsjLc4jvHt"
      },
      "source": [
        "Der Output gibt uns eine kurze Zusammenfassung der Netzwerkarchitektur. Dieser ist leider relativ schwer zu lesen. Falls sie sich für die Details interessieren, gibt es mehr Details [hier](https://towardsdatascience.com/using-predefined-and-pretrained-cnns-in-pytorch-e3447cbe9e3c).\n",
        "\n",
        "In der nächsten Zelle können wir eine Funktion benutzen, die uns eine etwas strukturiertere Übersicht über die Architektur gibt, und auch eine Abschätzung, wie viel Arbeitsspeicher auf der Graphikkarte das Training mit einer gegebenen Batch-Size (\"Stapelgröße\", Anzahl der Trainingsbeispiele, die parallel verarbeitet werden) benötigt.\n",
        "\n",
        "Nur für das Densenet funktioniert das leider nicht, da die Bibliothek die wir nutzen, nicht mit der DenseNet-Architektur zurecht kommt, in der jedes Layer eines \"Dense\"-Blockes nicht nur Inputs von direkt vorhergehenden Layers, sondern von *allen* vorhergehenden Layers des Blockes bekommt. So ist es leider manchmal.\n",
        "\n",
        "Probieren sie gerne die verschiedenen Netzwerkarchitekturen aus und vergleichen sie z.B. die Anzahl der Parameter und den Speicherverbrauch von __VGG und SqueezeNet__.\n",
        "\n",
        "Schauen sie auch gerne, was mit dem Arbeitsspeicherverbrauch passiert, wenn sie den __batch_size__-Parameter ändern."
      ]
    },
    {
      "cell_type": "code",
      "execution_count": null,
      "metadata": {
        "scrolled": false,
        "id": "agAzmu3ZjvHt"
      },
      "outputs": [],
      "source": [
        "from torchsummary import summary\n",
        "\n",
        "# Mit dem Summary Befehl erhalten wir eine kurze Zusammenfassung\n",
        "# der Architektur unseres Modells, und wieviel Speicher es verbrauchen\n",
        "# würde, wenn man acht Bilder mit drei Farbkanälen und 224x224 Pixeln\n",
        "# verarbeiten würde. Damit bekommt man auch eine realistische Einschätzung,\n",
        "# wieviel Arbeitsspeicher man dafür auf der Graphikkarte braucht.\n",
        "if model.name != 'densenet':\n",
        "    summary(model,input_size = (3,224,224),batch_size = 8)"
      ]
    },
    {
      "cell_type": "markdown",
      "metadata": {
        "id": "Sh5U6uPHjvHt"
      },
      "source": [
        "### Learning Rate und Optimizer\n",
        "\n",
        "Wie in der Vorlesung besprochen, ist bei gradientenbasierten Optimierungsverfahren die Wahl einer passenden \"Schrittweite\" in Richtung der Gradienten der Zielfunktion wichtig. Ist die Schrittweite zu klein, dauert es mitunter sehr, sehr lange, bis das Netzwerk eine gute Performance erreicht. Ist die Schrittweite zu groß, kann es tatsächlich sein, dass es überhaupt nichts sinnvolles lernt, da es immer wieder aus den entsprechenden lokalen Minima der Zielfunktion herausspringt.\n",
        "\n",
        "Als kleinen Exkurs können sie in der nächsten Zelle mit einer Funktion spielen, die einen Gradientenabstieg auf einer eindimensionalen, quadratischen Zielfunktion simuliert. D.h. es gibt nur einen einzigen, skalaren Parameter theta, und die Zielfunktion ist eine quadratische Funktion dieses Parameters. Sie können mit __theta_start__ bestimmen, von welchem Parameter-Wert der Gradientenabstieg starten soll. Zudem können sie die Lernrate __learning_rate__ bestimmen, die skaliert, wie groß die Optimierungsschritte in Richtung des Minimums sein sollen. Außerdem können sie mit __n_steps__ angeben, wie viele Optimierungsschritte gemacht werden sollen.\n",
        "\n",
        "Als Output erhalten sie zwei Graphen. Der Linke zeigt die Zielfunktion (blau) als Funktion des Parameters theta, und wie sich die Parameter-Werte mit jedem Optimierungsschritt vom Startwert (dunkelblauer Marker) zum finalen Wert (roter Marker) ändern (orangene Pfeile).\n",
        "\n",
        "Rechts sehen sie den Wert der Kostenfunktion als Funktion des Optimierungsschrittes. Ein funktionierender Optimiser sollte am Schluss ziemlich nahe am Minimum __0__ der Kostenfunktion sein.\n",
        "\n",
        "Spielen sie etwas mit den Parametern. Beobachten sie dabei, was passiert wenn sie die Lernrate sehr klein (z.B. 0.01) oder sehr groß (z.B. 2.0) machen. Schauen sie, wie schnell der Algorithmus für sinnvolle Werte (in diesem Beispiel z.B. 0.3) der Lernrate zum Minimum konvergiert."
      ]
    },
    {
      "cell_type": "code",
      "execution_count": null,
      "metadata": {
        "scrolled": false,
        "id": "YBZcDAsKjvHt"
      },
      "outputs": [],
      "source": [
        "from helper_functions_covid import simulate_gradient_descent_on_quadratic_potential\n",
        "\n",
        "# Lernrate (probieren sie z.B. 0.02, 0.05, 0.1, 0.2, 0.3, 0.6, 0.9, 1.0, 1.1)\n",
        "learning_rate = 2.25\n",
        "\n",
        "# Anzahl der simulierten Schritte\n",
        "n_steps = 10\n",
        "# Startwert für den Parameter theta\n",
        "theta_start = -2.0\n",
        "simulate_gradient_descent_on_quadratic_potential(theta_start, learning_rate, n_steps)"
      ]
    },
    {
      "cell_type": "markdown",
      "metadata": {
        "id": "QkxIn-QCjvHt"
      },
      "source": [
        "Wie sie sehen, hat die Wahl der Lernrate einen kritischen Einfluss auf das Konvergenzverhalten von gradientenbasierten Optimierungsverfahren. Umso unbefriedigender ist es, dass es noch keine wirklich fundierte Methode gibt, diese festzulegen. In der Praxis ist meistens eine Menge Ausprobieren involviert, in dem man z.B. numerische \"Experimente\" durchführt, die einen ganzen Bereich von Lernraten ausprobieren.\n",
        "\n",
        "Üblicher Weise funktionieren Lernraten im Bereich von 0.00001 - 0.001.\n",
        "\n",
        "In der folgenden Zelle haben sie die Wahl der Lernrate und des gradientenbasierten Optimierungsverfahrens für unser Convolutional Neural Net. Auch hier gibt es einen ganzen Forschungszweig, der sich damit beschäftigt, neue Optimierungsverfahren zu entwickeln, die schneller und zuverlässiger konvergieren. Wir bieten ihnen hier zwei Verfahren an:\n",
        "- SGD oder \"stochastic gradient descent\" ist der absolute Klassiker, der tatsächlich genau das macht, was wir Ihnen in der Vorlesung gesagt haben. Also: Den Gradienten der Zielfunktion bestimmen und dann einen Schritt entgegen diesem Gradienten (erinnern sie sich, dass der Gradient einer Funktion die Richtung des __steilsten Anstieges__ ist) gehen, der mit der Lernrate skaliert wird. Dieser Algorithmus konvergiert bei genügend kleinen Lernraten fast immer und findet Minima, die gut generalisieren. Er ist jedoch auch sehr __langsam__. In der erweiterten Version, die wir hier benutzen gibt es noch einen Parameter, __\"momentum\"__, der dem Optimierungsprozess eine gewisse __Trägheit__ verleiht. Stellen sie sich eine schwere Metallkugel vor, die einen bergigen Hang hinunterrollt. Wenn diese auf eine kleine Mulde trifft, wird sie nicht in diesem lokalen Minimum hängen bleiben, sondern aufgrund ihrer Trägheit darüber hinwegrollen.\n",
        "- ADAM oder \"adaptive moment estimation\" hat sich seit seiner [Publikation](https://arxiv.org/pdf/1412.6980.pdf) 2014 zum \"Schweizer Taschenmesser\" der gradientenbasierten Optimierungsverfahren entwickelt. Das liegt daran, dass dieser Algorithmus, der seine Schrittweite während des Optimierungsprozesses anpasst, mit seinen Standardparametern über viele Anwendungen, Netzwerkarchitekturen und Zielfunktionen hinweg nicht immer die beste, aber immer eine passable Leistung bietet."
      ]
    },
    {
      "cell_type": "code",
      "execution_count": null,
      "metadata": {
        "id": "QEcHDy1UMv2A"
      },
      "outputs": [],
      "source": [
        "# Wählen sie eine Lernrate zwischen 0.00001 und 0.001\n",
        "learning_rate = 0.0001\n",
        "\n",
        "# Wählen sie einen der beiden Optimizer, in dem sie die entsprechende Zeile einkommentieren.\n",
        "optimizer = optim.Adam(model.parameters(), lr = learning_rate)\n",
        "#optimizer = optim.SGD(model.parameters(), lr = learning_rate, momentum=0.9)"
      ]
    },
    {
      "cell_type": "markdown",
      "metadata": {
        "id": "R56GfLEYjvHt"
      },
      "source": [
        "### Trainings-, Test- und Validierungsset\n",
        "\n",
        "Ein großes Problem an Modellen, die Millionen an freien Parametern haben, ist das sogenannte Overfitting. Hierbei ist das Modell so flexibel, dass es nicht nur die Regularitäten bzw. die Struktur in den Daten aufgreift, sondern auch das __zufällige Rauschen in den Daten lernt__. Das führt natürlich dazu, dass solch ein zu flexibles Modell schlecht generalisiert, d.h. schlecht neue Datenpunkte, die ein anderes zufälliges Rauschen mitbringen, vorhersagt.\n",
        "\n",
        "In der nächsten Zelle können sie ausprobieren, einen Datensatz (blaue Punkte), der auf Grundlage einer deterministischen Funktion (orange) mit additivem, zufälligen Rauschen generiert wurde, durch ein Polynom anzupassen. Dabei gibt der Grad des Polynoms an, wie viele freie Parameter angepasst werden können. Ein Grad von eins entspricht dabei einer Geraden mit zwei freien Parametern (Steigung und y-Achsenabschnitt). Ein Grad von zwei entspricht einer quadratischen Funktion mit drei freien Parametern, usw...\n",
        "\n",
        "In der folgenden Zelle können sie der Funktion __plot_overfitting_demo__ eine Liste mit Graden (1,2,3,...) übergeben, für die jeweils ein Polynom des entsprechenden Grades an die Stichprobe gefittet wird. Die entsprechenden Graphen werden nebeneinander dargestellt (ab 4 wird es ziemlich gequetscht).\n",
        "\n",
        "Probieren sie gerne einmal aus, wie sich die Annäherung an die Daten verändert, wenn man von sehr einfachen Funktionen (Grad 1) zu __sehr, sehr komplizierten (Grad 100) geht__. Beachten sie dabei, dass mit zunehmendem Grad der mittlere quadratische Fehler auf der Stichprobe immer kleiner wird, die Annäherung der __wahren Funktion (orange)__ durch das __Modell (\"Polynom\", blau)__ aber nicht unbedingt besser."
      ]
    },
    {
      "cell_type": "code",
      "execution_count": null,
      "metadata": {
        "id": "3oDRjUJ6jvHu"
      },
      "outputs": [],
      "source": [
        "from helper_functions_covid import plot_overfitting_demo\n",
        "\n",
        "# Gerne auch mehrere Grade in die Liste eintragen, zum vergleichen\n",
        "grade = [1,2]\n",
        "\n",
        "plot_overfitting_demo(grade)"
      ]
    },
    {
      "cell_type": "markdown",
      "metadata": {
        "id": "IoUqkePDjvHu"
      },
      "source": [
        "In der Praxis hat sich im Deep Learning folgendes Vorgehen durchgesetzt, um Overfitting zu vermeiden:\n",
        "\n",
        "Man teilt die Daten, mit denen der Algorithmus trainiert wird in drei __unabhängige__ Teilmengen:\n",
        "\n",
        "- Ein __Trainingsset__: Auf dem Trainingsset wird der Gradient der Kostenfunktion berechnet, der von dem gradientenbasierten Optimierungsalgorithmus genutzt wird, um die Parameter der neuronalen Netze zu optimieren.\n",
        "\n",
        "- Ein __Validierungsset__: Auf dem Validierungsset wird während des gradientenbasierten Trainings immer wieder die Kostenfunktion ausgewertet. So lange das neuronale Netz noch sinnvolle Struktur aus dem Trainingsset lernt, sollte auch die Kostenfunktion auf dem Validierungsset fallen. Sobald während des Trainings jedoch der Wert der Kostenfunktion auf dem Validierungsset zu steigen beginnt, während er auf dem Trainingsset weiter fällt, geht man davon aus, dass das Netz beginnt zu \"überfitten\" und beendet das Training. Dies wird in der Literatur als __early stopping__ bezeichnet.\n",
        "\n",
        "- Ein __Testset__: Das Testset wird benutzt, um die finale Performance des trainierten Netzwerkes zu überprüfen. Es muss vom Trainings- und Validierungsset möglichst komplett unabhängig sein.\n",
        "\n",
        "Bevor wir also mit dem Training unseres Netzes auf den Röntgenbildern beginnen können, teilen wir die drei Listen, die die Röntgenbilder der Normalbefunde, COVID-Erkrankungen und bakteriellen Pneumonien beinhalten, jeweils in diese drei Untermengen auf.\n",
        "\n",
        "Dafür haben wir eine Helferfunktion geschrieben, __split_list__, die die Listen zufällig in ein Trainings-, Validierungs- und Testset aufteilt. Man kann der Funktion die relative, prozentuale Aufteilung in die drei Sets in Form der Parameter train_percentage, validation_percentage, und test_percentage übergeben.\n",
        "\n",
        "Üblich sind z.B. ein Split von 80% der gesamten Trainingsdaten als Trainingsset, und je 10% als Validierungs- und Testset.\n",
        "\n",
        "Wählen sie auch gerne eine andere Aufteilung, z.B. 60%/20%/20%.\n",
        "\n",
        "Nebenbemerkung: Eine weitere Technik, um Overfitting zu vermeiden, die wir zunächst nicht verwenden, ist das sogenannte Dropout. Mehr dazu finden sie hier: https://www.youtube.com/watch?v=5tvmMX8r_OM&t=2989s"
      ]
    },
    {
      "cell_type": "code",
      "execution_count": null,
      "metadata": {
        "id": "I-j5a0g6jvHu"
      },
      "outputs": [],
      "source": [
        "from helper_functions_covid import split_list\n",
        "\n",
        "train_percentage = 0.8\n",
        "valid_percentage = 0.1\n",
        "test_percentage = 0.1\n",
        "\n",
        "# Nun können wir die Listen entsprechend aufteilen und uns die resultierenden\n",
        "# Aufteilungen anschauen\n",
        "\n",
        "# Zunächst für die COVID-Bilder\n",
        "\n",
        "filenames_covid_train, filenames_covid_val, filenames_covid_test = \\\n",
        "    split_list(filenames_covid, train_percentage, valid_percentage, test_percentage)\n",
        "\n",
        "print('Training Cases with COVID:')\n",
        "print(len(filenames_covid_train))\n",
        "\n",
        "print('Validation Cases with COVID:')\n",
        "print(len(filenames_covid_val))\n",
        "\n",
        "print('Test Cases with COVID:')\n",
        "print(len(filenames_covid_test))\n",
        "\n",
        "# Nun für die Normalbefunde\n",
        "\n",
        "filenames_normal_train, filenames_normal_val, filenames_normal_test = \\\n",
        "    split_list(filenames_normal, train_percentage, valid_percentage, test_percentage)\n",
        "\n",
        "print('Normal Training Cases:')\n",
        "print(len(filenames_normal_train))\n",
        "\n",
        "print('Normal Validation Cases:')\n",
        "print(len(filenames_normal_val))\n",
        "\n",
        "print('Normal Test Cases:')\n",
        "print(len(filenames_normal_test))\n",
        "\n",
        "# Und nun für die Befunde bei bakteriellen Pneumonien\n",
        "\n",
        "filenames_pneumonia_train, filenames_pneumonia_val, filenames_pneumonia_test = \\\n",
        "    split_list(filenames_pneumonia, train_percentage, valid_percentage, test_percentage)\n",
        "\n",
        "print('Pneumonia Training Cases:')\n",
        "print(len(filenames_pneumonia_train))\n",
        "\n",
        "print('Pneumonia Validation Cases:')\n",
        "print(len(filenames_pneumonia_val))\n",
        "\n",
        "print('Pneumonia Test Cases:')\n",
        "print(len(filenames_pneumonia_test))"
      ]
    },
    {
      "cell_type": "markdown",
      "metadata": {
        "id": "pkbsNDMWjvHu"
      },
      "source": [
        "Für die __Nachvollziehbar- und Reproduzierbarkeit__ sollten solche zufälligen Aufteilungen (__\"Splits\"__) auch immer __dokumentiert__ werden. Deshalb schreiben wir die einzelnen Listen in der nachfolgenden Zelle in einzelne Textdateien, die sie sich auch gerne über das Jupyter-Interface anschauen können."
      ]
    },
    {
      "cell_type": "code",
      "execution_count": null,
      "metadata": {
        "id": "EaUXpxTdjvHu"
      },
      "outputs": [],
      "source": [
        "from helper_functions_covid import write_list_to_textfile\n",
        "\n",
        "write_list_to_textfile(filenames_covid_train,'filenames_covid_train.txt')\n",
        "write_list_to_textfile(filenames_covid_test,'filenames_covid_test.txt')\n",
        "write_list_to_textfile(filenames_covid_val,'filenames_covid_val.txt')\n",
        "\n",
        "write_list_to_textfile(filenames_normal_train,'filenames_normal_train.txt')\n",
        "write_list_to_textfile(filenames_normal_test,'filenames_normal_test.txt')\n",
        "write_list_to_textfile(filenames_normal_val,'filenames_normal_val.txt')\n",
        "\n",
        "write_list_to_textfile(filenames_pneumonia_train,'filenames_pneumonia_train.txt')\n",
        "write_list_to_textfile(filenames_pneumonia_test,'filenames_pneumonia_test.txt')\n",
        "write_list_to_textfile(filenames_pneumonia_val,'filenames_pneumonia_val.txt')"
      ]
    },
    {
      "cell_type": "markdown",
      "metadata": {
        "id": "Lgm1uyM4jvHu"
      },
      "source": [
        "Das Testset brauchen wir erst später, wenn wir die finale Performance unseres trainierten Netzes beurteilen wollen. __Es schadet aber nie, schon früh daran zu denken, die entsprechenden Daten getrennt von Trainings- und Validierungsset zur Seite zu legen.__\n",
        "\n",
        "In der nächsten Zelle erstellen wir nun Datensätze, aus denen entsprechende Stapel (\"Batches\") zum Training des Netzes gezogen werden können.\n",
        "\n",
        "Eine weitere Möglichkeit, Overfitting zu verhindern, ist die Daten zu __augmentieren__. __Datenaugmentierung__ bezeichnet das Vorgehen, dass man auf die Trainingsdaten, bevor man sie dem Netz präsentiert, Transformationen anwendet, von denen der Output des Netzes unabhängig sein sollte. Geht es zum Beispiel um das Erkennen von Objekten auf Bilder, die an verschiedenen Orten und in verschiedenen Größen auftauchen können, kann man z.B. die Trainingsbilder zufällig verschieben und skalieren. So verhindert man, dass das Netz z.B. lernt, das Hunde immer links unten und Katzen immer rechts oben in den Trainingsbildern waren.\n",
        "\n",
        "Wir haben eine Sammlung solcher Operationen schon in der \"train_transformer\"-Struktur zusammengefasst. Diese beinhaltet zufälliges horizontales Spiegeln (quasi vertauschen der rechten und der linken Lunge), und zufälliges Skalieren (etwas vergrößern und verkleinern).\n",
        "\n",
        "Gleichzeitig werden die Grauwerte normalisiert, so dass sie einen Mittelwert von 0 und eine Standardabweichung von 1 haben. Damit wird auch eine Abhängigkeit vom absoluten Grauwert verhindert.\n",
        "\n",
        "Zudem werden die Bilder auf 224x224 Pixel skaliert, da die Architekturen, die wir benutzen, auf diese Bildgröße ausgerichtet sind, die der Größe der Bilder im ImageNet-Datensatz entspricht.\n",
        "\n",
        "Ein wichtiger freien Parameter des Trainings ist auch die Batchsize, die angibt, wie viele Bilder auf einen Trainingsstapel gepackt werden.\n",
        "\n",
        "Entsprechend des Arbeitsspeichers, der auf den Graphikkarten zur Verfügung steht, und der Größe der Netzwerke ist eine Batch-Size von 8 empfehlenswert. Wenn man ein SqueezeNet-Trainiert kann die Batch-Size allerdings auch erhöht werden. Probieren sie dann gerne 16 aus."
      ]
    },
    {
      "cell_type": "code",
      "execution_count": null,
      "metadata": {
        "id": "xta8wBB6Mv2A"
      },
      "outputs": [],
      "source": [
        "from helper_functions_covid import ImageDataset, train_transformer\n",
        "\n",
        "batchsize = 8\n",
        "\n",
        "trainset = ImageDataset(root_dir=data_path,\n",
        "                          classes = ['normal', 'pneumonia', 'COVID'],\n",
        "                          files_path = [filenames_normal_train, filenames_pneumonia_train, filenames_covid_train],\n",
        "                          transform= train_transformer)\n",
        "\n",
        "valset = ImageDataset(root_dir=data_path,\n",
        "                          classes = ['normal', 'pneumonia', 'COVID'],\n",
        "                          files_path = [filenames_normal_val, filenames_pneumonia_val, filenames_covid_val],\n",
        "                          transform= val_transformer)\n",
        "\n",
        "train_loader = DataLoader(trainset, batch_size=batchsize, drop_last=False, shuffle=True)\n",
        "val_loader = DataLoader(valset, batch_size=batchsize, drop_last=False, shuffle=False)"
      ]
    },
    {
      "cell_type": "markdown",
      "metadata": {
        "id": "Yw8Qq5mpjvHu"
      },
      "source": [
        "Bevor wir mit dem Training anfangen können, brauchen wir noch eine Struktur, die auf das Early-Stopping achtet, also den Trainingsvorgang beendet, wenn die Kostenfunktion auf dem Validierungsset beginnt anzusteigen. Da der Optimierungsprozess aufgrund des zufälligen Ziehens der einzelnen Trainignsstapel auch ein Zufallselement beinhaltet, kann es immer mal vorkommen, dass so ein Anstieg kurz auftritt, ohne dass das Netz bereits zu überfitten beginnt. Deshalb übergibt man EarlyStopping einen Parameter, \"patience\", der angibt, über wie viele Durchgänge durch das Trainingsset hinweg die Kostenfunktion auf dem Validierungsset kontinuierlich ansteigen darf, bis dem early_stopper \"die Geduld ausgeht\" und das Training beendet wird."
      ]
    },
    {
      "cell_type": "code",
      "execution_count": null,
      "metadata": {
        "id": "fPcNDzx2Mv2A"
      },
      "outputs": [],
      "source": [
        "from helper_functions_covid import EarlyStopping\n",
        "\n",
        "early_stopper = EarlyStopping(patience = 5)"
      ]
    },
    {
      "cell_type": "markdown",
      "metadata": {
        "id": "1WGbmVAGjvH1"
      },
      "source": [
        "### Kostenfunktion\n",
        "\n",
        "Nachdem wir nun einen Datensatz und eine Netzwerkarchitektur haben, müssen wir noch festlegen, welche Kostenfunktion wir minimieren wollen, d.h. mit welcher Kostenfunktion wir die Gradienten bestimmen, die dem Optimizer die Schrittrichtung vorgeben.\n",
        "\n",
        "Bei Klassifikationsproblemen wählt man meistens die sogenannte \"Kreuzentropie\" oder \"Cross-Entropy\". Das klingt zwar sehr kompliziert, aber im wesentlichen funktioniert diese Kostenfunktion so:\n",
        "\n",
        "- Jede Klasse erhält ein Output-Neuron\n",
        "- Für jedes Trainingsbeispiel werden die Aktivierungen der Output-Neuronen in eine Wahrscheinlichkeitsverteilung über die einzelnen Klassen umgerechnet, so dass eine höhere Aktivierung eines bestimmten Output-Neurons einer höheren Wahrscheinlichkeit der entsprechenden Klasse entspricht. Dies wird in der Praxis gemacht, in dem man die Aktivierungen der Output-Neurone durch eine sogenannte SoftMax-Funktion schickt.\n",
        "- Die Kreuzentropie für einen Satz (i.e. ein Batch oder einen Stapel) Trainingsbeispiele ist dann die __mittlere Wahrscheinlichkeit der tatsächlichen, wahren Klasse unter der von Netz vorhergesagten Wahrscheinlichkeitsverteilung__. D.h. diese Zielfunktion sorgt dafür, dass die Wahrscheinlichkeit, die das Netz der tatsächlichen Klasse eines Trainingsbeispiels gibt, immer größer wird. Oder anders gesagt: Dass die Aktivität des Output-Neurons, dass die wahre Klasse eines Trainingsbeispiels repräsentiert, größer wird.\n",
        "\n",
        "Eine ausführliche Beschreibung dieses Zusammenhanges finden sie z.B. in diesem tollen [Blogartikel](https://towardsdatascience.com/cross-entropy-for-classification-d98e7f974451).\n",
        "\n",
        "Zum Glück bring PyTorch (wie auch TensorFlow) die meisten gebräuchlichen Kostenfunktionen schon mit, so dass es reicht, die entsprechende Struktur aus PyTorchs NeuralNetwork (torch.nn) Bibliothek zu benutzen."
      ]
    },
    {
      "cell_type": "code",
      "execution_count": null,
      "metadata": {
        "id": "qlLBhTe8jvH1"
      },
      "outputs": [],
      "source": [
        "criterion = nn.CrossEntropyLoss()"
      ]
    },
    {
      "cell_type": "markdown",
      "metadata": {
        "id": "WgWBzg07jvH1"
      },
      "source": [
        "### Evaluationsmetriken\n",
        "\n",
        "Neben der Zielfunktion, die benutzt wird, um auf dem Trainingsset den Gradienten (die Ableitung) der Zielfunktion nach den Netzwerkparametern zu berechnen, gibt es noch weitere Metriken, mit denen wir die Performance des Netzes evaluieren können.\n",
        "\n",
        "### Recall auf den einzelnen Trainingsklassen\n",
        "Der Recall ist eine Verallgemeinerung der \"Sensitivität\", die wir schon von einfachen positiv/negativ Tests kennen. Diese kann man als binäre (d.h. es gibt nur zwei Klassen) Classifier betrachten, die Personen in zwei Klassen (gesund/erkrankt) klassifizieren. Hier ist die Sensitivität definiert als die bedingte Wahrscheinlichkeit, dass der test positiv ausfällt, wenn die Person tatsächlich erkrankt ist.\n",
        "\n",
        "$$\\mathrm{Sensitivität = P(positiv|erkrankt)}$$\n",
        "\n",
        "So eine bedingte Wahrscheinlichkeit kann man für Classifier, die mehrere Klassen zuordnen, für jede einzelne Klasse definieren. Dieses Größe wird der \"Recall für die Klasse K\" genannt und ist dabei definiert als\n",
        "\n",
        "$$\\mathrm{Recall(K) = P(Classifier\\ ordnet\\ Klasse\\ K\\ zu\\ |\\ Datenpunkt\\ hat\\ tatsächlich\\ Klasse\\ K)}$$\n",
        "\n",
        "__Beachte__, dass unter dieser Definition die \"Sensitivität\" eines binären Tests der Recall für die Klasse \"erkrankt\" ist, und die \"Spezifität\" der Recall für die Klasse \"gesund\".\n",
        "\n",
        "### Accuracy\n",
        "Die Accuracy eines Classifiers auf einem Datensatz ist der relative Anteil der richtig Klassifizierten Punkte. Diese Metrik ist mit __großer__ Vorsicht zu genießen, wenn die einzelnen Klassen in den Trainingsdaten nicht gleich Verteilt sind. Dies ist auch in unserem Beispiel der Fall. Erinnern wir uns an die Verteilung der Klassen in unserem gesamten Datensatz:\n",
        "\n",
        "```python\n",
        "    \n",
        "Number of COVID Images:\n",
        "617\n",
        "Number of Normal Images:\n",
        "8851\n",
        "Number of Pneumonia Images:\n",
        "6069\n",
        "    \n",
        "```\n",
        "\n",
        "D.h. wenn wir einen (offensichtlich nutzlosen) Classifier hätten, der __allen Datenpunkten__ die Klasse __normal__ zuordnet, hätte dieser schon eine Accuracy von $8851/(8851 + 6069 + 617) \\approx 0.57 = 57\\%$. Wenn wir einen Classifier hätten, der alle Bilder der Klassen \"normal\" und \"pneumonia\" richtig klassifiziert, aber die Klasse \"covid\" gar nicht erkennt (sondern die entsprechenden Bilder einer der anderen Klassen zuordnet) wäre die Accuracy schon $(8851+6069)/(8851 + 6069 + 617) \\approx 0.96 = 96\\%$. Das zeigt, wie sehr diese Kenngröße mit Vorsicht zu genießen ist.\n",
        "\n",
        "### Precision\n",
        "\n",
        "Ähnlich wie der Recall die Sensitivität und Spezifität verallgemeinert, verallgemeinert die Precision den Positiven Prädiktiven Wert und den Negativen Prädiktiven Wert eines binären Tests. Die Precision für eine Klasse K ist definiert als die bedingte Wahrscheinlichkeit, dass ein Datenpunkt tatsächlich zu Klasse K gehört, wenn der Classifier ihm Klasse K zuordnet.\n",
        "\n",
        "$$\\mathrm{ Precision(K) = P(Datenpunkt\\ hat\\ tatsächlich\\ Klasse\\ K\\ |\\ Classifier\\ ordnet\\ Klasse\\ K\\ zu) }$$\n",
        "\n",
        "Erinnern wir uns kurz an die bekannten Ausdrücke für binäre Tests: Der Positive Prädiktive Wert ist die Wahrscheinlichkeit, dass eine Person tatsächlich erkrankt ist, wenn der Test positiv ausfällt. Der Negative Prädiktive Wert ist die Wahrscheinlichkeit, dass eine Person tatsächlich gesund ist, wenn der Test negativ Ausfällt. Demnach kann man den Positiven Prädiktiven Wert als die Precision des binären Classifiers (Klassen: gesund/erkrankt) bezüglich der Klasse \"erkrankt\" betrachten und den Negativen Prädiktiven Wert als die Precision des Classifiers bezüglich der Klasse \"gesund\".\n",
        "\n",
        "Ebenso wie bei den binären Tests gilt für die Precision bezüglich einer Klasse: Sie ist nicht nur abhängig von dem Recall des Classifiers für diese und die anderen Klassen (Verallgemeinerung von Sensitivität/Spezifität), sondern auch von der __Vortestwahrscheinlichkeit__ der einzelnen Klassen. D.h. ebenso wie die Accuracy hängt die Precision nicht nur von den eigenschaften des Classifiers, sondern auch von der Verteilung der einzelnen Klassen im jeweiligen Trainings-, Validierungs- und Testdatensatz ab. Dementsprechend nutzen wir diese Größe im Folgenden nicht, sondern beschränken uns damit, den Recall des Classifiers für die einzelnen Klassen anzugeben, der (ganz analog zu Sensitivität und Spezifität) eher die Eigenschaften des Tests bzw. Classifiers __an sich__ beschreibt.\n",
        "\n",
        "### Confusion Matrix\n",
        "\n",
        "Precision und Recall als bedingte Wahrscheinlichkeiten können aus der Confusion-Matrix eine Classifiers angegeben werden. Diese gibt für eine Menge an Datenpunkten an, wie viele der gesamten Datenpunkte welche wahre Klasse haben und welche Klasse vom Classifier zugeordnet bekommen.\n",
        "\n",
        "<img src=\"https://github.com/kaiu85/cv-workshop/blob/main/Computer_Vision/confusion_matrix.png?raw=1\" alt=\"Eine beispielhafte Confusion-Matrix\" title=\"Eine beispielhafte Confusion Matrix\" />\n",
        "\n",
        "Die Zeilen dieser Matrix (bzw. Tabelle) entsprechen der tatsächlichen Klasse der Datenpunkte, die Spalten entsprechen der Klasse, die ein neuronales Netzwerk den einzelnen Datenpunkten zugeordnet hat. D.h. auf der diagonalen dieser Matrix stehen die Datenpunkte, bei denen die tatsächliche Klasse der zugeordneten Klasse entspricht.\n",
        "\n",
        "In diesem Beispiel wurden 850 ($8.5\\cdot10^2$ in Kurzschreibweise) Datenpunkte, die die wahre Klasse \"normal\" haben, von Netzwerk auch der Klasse \"normal\" zugeordnet. Ebenso wurden 530 ($5.3\\cdot10^2$ in Kurzschreibweise) Datenpunkte, die die wahre Klasse \"pneumonia\" haben, auch der Klasse \"pneumonia\" zugeordnet. Das Netzwerk hat aber auch 78 Datenpunkte, die die wahre Klasse \"pneumonia\" haben, der Klasse \"normal\" zugeordnet.\n",
        "\n",
        "#### Ein paar kleine Aufgaben:\n",
        "\n",
        "- Wie viele Bilder, die von COVID-Fällen stammen, wurden tatsächlich der Klasse \"covid\" zugeordnet?\n",
        "- Wie viele Bilder, die von COVID-Fällen stammen, wurden fälschlicher Weise der Klasse \"normal\" zugeordnet?\n",
        "- Was ist die Klasse, die das Netzwerk in diesem Beispiel einem Bild, das von einem COVID-Fall stammt, am __wahrscheinlichsten__ zuordnet?\n",
        "\n",
        "Überlegen sie und diskutieren sie mit ihren Mitstudierenden.\n"
      ]
    },
    {
      "cell_type": "markdown",
      "metadata": {
        "id": "y6jJBa5AjvH2"
      },
      "source": [
        "<details><summary>Klicken sie hier für die Lösungen</summary>\n",
        "<p>\n",
        "\n",
        "\n",
        "Wie viele Bilder, die von COVID-Fällen stammen, wurden tatsächlich der Klasse \"covid\" zugeordnet?\n",
        "    \n",
        "__9__    \n",
        "\n",
        "Wie viele Bilder, die von COVID-Fällen stammen, wurden fälschlicher Weise der Klasse \"normal\" zugeordnet?\n",
        "\n",
        "__17__\n",
        "\n",
        "Was ist die Klasse, die das Netzwerk in diesem Beispiel einem Bild, das von einem COVID-Fall stammt, am wahrscheinlichsten zuordnet?\n",
        "    \n",
        "Die Klasse _\"pneumonia\"_. Diese wurde nämlich $36$ von insgesamt $(17+36+9)$ Fällen zugeordnet. Das entspricht $36/(17+36+9)\\approx 0.58 = 58\\%$ der COVID-Bilder.\n"
      ]
    },
    {
      "cell_type": "markdown",
      "metadata": {
        "id": "GsChBzcAjvH2"
      },
      "source": [
        "### Precision und Recall aus der Confusion Matrix bestimmen\n",
        "\n",
        "Aus der Confusion-Matrix kann man tatsächlich auch Precision und Recall für die einzelnen Klassen bestimmen. Das geht so:\n",
        "\n",
        "#### Precision\n",
        "Erinnern sie sich, dass die Precision für eine Klasse K als die Wahrscheinlichkeit definiert ist, mit der ein Datenpunkt tatsächlich zur Klasse K gehört, wenn das Netz ihm die Klasse K zuordnet. Aus der oben dargestellten Confusion-Matrix können wir mit dieser Definition zum Beispiel die Precision für die Klasse \"normal\" bestimmen. Dazu bestimmen wir die Anzahl der Datenpunkte, die tatsächlich zur Klasse \"normal\" gehören und denen die Klasse \"normal\" zugeordnet wurde. Das sind in diesem Beispiel 850 Stück (Zeile \"normal\" und Spalte \"normal\"). Diese Anzahl teilen wir durch alle Datenpunkte, die vom Netzwerk der Klasse \"normal\" zugeordnet wurden. Das sind $850+78+17$ (Spaltensumme \"normal\"). Damit erhalten wir für die Precision im Hinblick auf die Klasse \"normal\" (für __dieses Netzwerk__ und __diesen Datensatz__):\n",
        "$$\\mathrm{ Precision(\"normal\") = P(Datenpunkt\\ hat\\ tatsächlich\\ Klasse\\ \"normal\"\\ |\\ Classifier\\ ordnet\\ Klasse\\ \"normal\"\\ zu) } \\\\\n",
        "= \\frac{850}{850+78+17} \\approx 0.90 = 90\\%$$\n",
        "\n",
        "#### Recall\n",
        "Um den Recall für eine Klasse K zu berechnen, bestimmen wir die Wahrscheinlichkeit, dass der Klassifier einem Datenpunkt die Klasse K zuordnet, wenn dieser Tatenpunkt tatsächlich die Klasse K hat. Aus der oben dargestellten Confusion-Matrix können wir diese Größe, z.B. für die Klasse \"normal\", wie folgt bestimmen: Wir bestimmen zunächst die Anzahl aller Datenpunkte, die tatsächlich zur Klasse \"normal\" gehören und denen die Klasse \"normal\" zugeordnet wurde. Das sind in diesem Beispiel 850 Stück (Zeile \"normal\" und Spalte \"normal\"). Dann teilen wir diese Anzahl durch die Anzahl aller Datenpunkte, die tatsächlich zur Klasse \"normal\" gehören. Dies sind in unserem Beispiel $850+35+0$ (Zeilensumme \"normal\"). Damit erhalten wir für den Recall im Hinblick auf die Klasse \"normal\" (für __dieses Netzwerk__):\n",
        "$$\\mathrm{ Recall(\"normal\") = P(Classifier\\ ordnet\\ Klasse\\ \"normal\"\\ zu\\ |\\ Datenpunkt\\ hat\\ tatsächlich\\ Klasse\\ \"normal\") } \\\\\n",
        "= \\frac{850}{850+35+0} \\approx 0.96 = 96\\%$$\n",
        "\n",
        "#### Noch zwei letzte Aufgaben:\n",
        "\n",
        "- Bestimmen sie für dieses Beispiel die Precision und den Recall im Hinblick auf die Klasse \"covid\".\n",
        "- Diskutieren sie mit ihren Mitstudierenden, was dies im Hinblick auf die Leistung des Netzwerks zur Detektion von COVID bedeutet, wenn sie die Begriffe \"Precision\" und \"Recall\" ähnlich wie die bekannten Begriffe \"Positiver Prädiktiver Wert\" und \"Sensitivität\" betrachten."
      ]
    },
    {
      "cell_type": "markdown",
      "metadata": {
        "id": "A7MVUziDjvH2"
      },
      "source": [
        "<details><summary>Klicken sie hier für die Lösungen</summary>\n",
        "<p>\n",
        "\n",
        "- Bestimmen sie für dieses Beispiel die Precision und den Recall im Hinblick auf die Klasse \"covid\".\n",
        "\n",
        "##### Precision:    \n",
        "Wir bestimmen zuerst die Anzahl der Datenpunkte, die tatsächlich zur Klasse \"covid\" gehören und denen die Klasse \"covid\" zugeordnet wurde. Das sind in diesem Beispiel 9 Stück (Zeile \"covid\" und Spalte \"covid\"). Diese Anzahl teilen wir durch alle Datenpunkte, die vom Netzwerk der Klasse \"covid\" zugeordnet wurden. Das sind $0+0+9$ (Spaltensumme \"covid\"). Damit erhalten wir für die Precision im Hinblick auf die Klasse \"covid\" (für __dieses Netzwerk__ und __diesen Datensatz__):\n",
        "$$\\mathrm{ Precision(\"covid\") = P(Datenpunkt\\ hat\\ tatsächlich\\ Klasse\\ \"covid\"\\ |\\ Classifier\\ ordnet\\ Klasse\\ \"covid\"\\ zu) } \\\\\n",
        "= \\frac{9}{0+0+9} \\approx 1.0 = 100\\%$$\n",
        "    \n",
        "#### Recall:\n",
        "Wir bestimmen zunächst die Anzahl aller Datenpunkte, die tatsächlich zur Klasse \"covid\" gehören und denen die Klasse \"covid\" zugeordnet wurde. Das sind in diesem Beispiel 9 Stück (Zeile \"covid\" und Spalte \"covid\"). Dann teilen wir diese Anzahl durch die Anzahl aller Datenpunkte, die tatsächlich zur Klasse \"covid\" gehören. Dies sind in unserem Beispiel $17+36+9$ (Zeilensumme \"covid\"). Damit erhalten wir für den Recall im Hinblick auf die Klasse \"covid\" (für __dieses Netzwerk__):\n",
        "$$\\mathrm{ Recall(\"covid\") = P(Classifier\\ ordnet\\ Klasse\\ \"covid\"\\ zu\\ |\\ Datenpunkt\\ hat\\ tatsächlich\\ Klasse\\ \"covid\") } \\\\\n",
        "= \\frac{9}{17+36+9} \\approx 0.15 = 15\\%$$\n",
        "    \n",
        "- Diskutieren sie mit ihren Mitstudierenden, was dies im Hinblick auf die Leistung des Netzwerks zur Detektion von COVID bedeutet, wenn sie die Begriffe \"Precision\" und \"Recall\" ähnlich wie die bekannten Begriffe \"Positiver Prädiktiver Wert\" und \"Sensitivität\" betrachten.\n",
        "    \n",
        "Eine Precision von 1.0 bedeutet, dass in diesem Beispiel eine Zuordnung zur Klasse \"covid\" durch das Netzwerk bedeutet, dass der Datenpunkt praktisch sicher auch wirklich zur Klasse \"covid\" gehört (ähnlich einem Positiven Prädiktiven Wert von 100%).\n",
        "    \n",
        "Ein Recall von 0.15 bedeutet jedoch auch, dass von allen Datenpunkten, die wirklich zur Klasse \"covid\" gehören, nur 15% von dem Netzwerk entdeckt werden (ähnlich einer Sensitivität von 15%)."
      ]
    },
    {
      "cell_type": "markdown",
      "metadata": {
        "id": "Sfd55qdBjvH2"
      },
      "source": [
        "### Jetzt geht es los: Training\n",
        "In der nächsten Zelle trainieren wir das Netz. Das dauert in der Regel sehr lange, bei modernen, riesigen Datensätzen zum Teil Tage bis Wochen. Unser Modell müsste wahrscheinlich auch ca. ein bis zwei Tage trainieren, bis es seine finale Performance erreicht. Jedoch hoffen wir, dass wir in den 1-2 Stunden, die wir heute zur Verfügung haben, schon erste Erfolge sehen.\n",
        "\n",
        "Bis jetzt war der Code, den wir Ihnen präsentiert haben sehr stark unterteilt und gekapselt. Bei der Trainingsschleife handelt es sich jedoch um einem sehr zentralen Punkt im Code, wenn man neuronale Netze trainiert.\n",
        "\n",
        "Im Prinzip passiert folgendes:\n",
        "\n",
        "- Die Trainingsschleife iteriert mehrere male über alle Daten im Trainingsset. Ein Durchlauf, in dem jeder Trainingsdatenpunkt dem Netz einmal präsentiert wird, wird als \"Epoche\" bezeichnet. D.h. ein Netzwerk, das für 50 Epochen trainiert wurde, hat jeden Trainingsdatenpunkt 50 mal gesehen.\n",
        "\n",
        "    * In jedem dieser Durchläufe wird das Trainingsset zufällig in einzelne Trainingsbatches geteilt. Diese werden dem Netzwerk nacheinander präsentiert, um damit den Gradienten (i.e. die Ableitung) der Zielfunktion nach den Netzwerkparametern zu bestimmen.\n",
        "\n",
        "    * Diese Gradienten werden vom Optimizer benutzt, um die Netzwerkparameter einen kleinen \"Schritt\" in eine Richtung zu bewegen, so dass die Zielfunktion kleiner wird.\n",
        "\n",
        "- Nach jeder Epoche, werden entsprechende Performancemetriken, nämlich der Mittelwert der Zielfunktion, die Accuracy und der Recall für die einzelnen Klassen, sowohl für das Trainingsset, als auch für das Validierungsset bestimmt.\n",
        "\n",
        "    * Diese Metriken werden in einer Log-Datei gespeichert, damit man sich später den Verlauf dieser Kennwerte anschauen kann, um die Konvergenz des Trainings beurteilen zu können. Z.B. sollte die Zielfunktion auf dem Trainingsset immer kleiner und die Accuracy auf dem Trainingsset immer größer werden, wenn man die Lernrate nicht zu groß gewählt hat.\n",
        "\n",
        "    * Entsprechend dieser Metriken bestimmt der \"Early-Stopper\" ob das Training angehalten werden sollte, oder ob die Lernrate eventuell verkleinert werden sollte.\n",
        "\n",
        "Im Folgenden präsentieren wir Ihnen hier die gesamte Trainingsschleife, jedoch mit sehr ausführlichen Kommentaren im Code."
      ]
    },
    {
      "cell_type": "code",
      "execution_count": null,
      "metadata": {
        "id": "OTticHaOMv2A",
        "scrolled": false
      },
      "outputs": [],
      "source": [
        "# tqdm hat einen geheimnisvollen Namen, ist aber nur dafür da, dass man ein bisschen Feedback bekommt,\n",
        "# wie schnell eine Schleife durchläuft, ohne viel an seinem Code ändern zu müssen.\n",
        "# Man muss nur \"for ... in ...\" durch for \"for ... in tqdm(...)\" ersetzen.\n",
        "from tqdm.notebook import tqdm\n",
        "from helper_functions_covid import compute_metrics, log_metrics_to_file\n",
        "\n",
        "best_model = model\n",
        "best_val_score = 0\n",
        "\n",
        "### In dieser Textdatei speichern wir unsere \"Trainingskurve\".\n",
        "### Diese zeichnet auf, wie sich die Kostenfunktion auf dem Trainings- und dem\n",
        "### Validierungsset, sowie einige andere Kennwerte während des Trainings entwickeln\n",
        "log_file = 'log_train.txt'\n",
        "\n",
        "n_epochs = 100  # Wenn man dieses Skript (bis morgen) durchlaufen lassen würde,\n",
        "                # würde es 100 mal durch das gesamten Trainingsset gehen, d.h. es hätte dann jedes Bild\n",
        "                # im Trainingsset 100 mal gesehen.\n",
        "\n",
        "# Wir zählen \"epoch\" von 0 bis n_epochs - 1 hoch.\n",
        "# In jedem Durchlauf dieser Schleife gehen wir einmal durch\n",
        "# das gesamte Trainingsset\n",
        "for epoch in range(n_epochs):\n",
        "\n",
        "    # Wir setzen das Modell in den Trainingsmodus\n",
        "    model.train()\n",
        "\n",
        "    # In dieser Variablen werden wir die Kostenfunktion für diesen Durchlauf durch\n",
        "    # das gesamte Trainingsset akkumulieren.\n",
        "    train_loss = 0\n",
        "\n",
        "    # In dieser Variablen werden wir zählen, wie viele der Trainingsbeispiele\n",
        "    # wir bei diesem Durchlauf durch das Trainingsset richtig Klassifiziert haben\n",
        "    train_correct = 0\n",
        "\n",
        "    # Hiermit gehen wir einmal durch das gesamte Trainingsset\n",
        "    # Der \"train_loader\" gibt uns in jeder Iteration\n",
        "    # ein zufällig gezogenes Batch (\"data\") von Bildern aus dem Trainingsset.\n",
        "    # Ausserdem sagt er uns, bei der wievielten Iteration wir gerade sind (iter_num).\n",
        "    # \"train_loader\" achtet dabei selbstständig darauf, dass wir jedes\n",
        "    # Bild des Trainingssets genau einmal sehen.\n",
        "    #\n",
        "    # tqdm zeigt uns beim Durchlaufen an, wie lange eine Iteration dauert\n",
        "    # und bei welcher Iteration wir gerade sind.\n",
        "    for iter_num, data in tqdm(enumerate(train_loader)):\n",
        "\n",
        "        # Lade für ein Trainingsbatch die entsprechenden Bilder (image)\n",
        "        # und die wahren Klassenlabel (target)\n",
        "        image, target = data['img'].to(device), data['label'].to(device)\n",
        "\n",
        "        # Berechne den Output unseres Netzwerkes für das aktuelle\n",
        "        # Trainingsbatch\n",
        "        output = model(image)\n",
        "\n",
        "        # Berechne die Kostenfunktion auf Grundlage des Netzwerk-Outputs\n",
        "        # und der wahren Klassen der Trainingsbeispiele (target)\n",
        "        #\n",
        "        # Wir teilen das loss durch 8, da wir noch einen kleinen Trick verwenden (s.u.), um das\n",
        "        # Training stabiler zu machen: Wir summieren erst die Gradienten von 8 Trainings-\n",
        "        # Batches auf, bevor wir diese an den Optimizer übergeben, der dann basierend darauf\n",
        "        # einen Optimierungsschritt macht. Das entspricht (wenn wir das Loss hier entsprechend teilen)\n",
        "        # genau der Dynamik, die wir bekommen würden, wenn wir unsere Batch-Size verachtfachen würden.\n",
        "        # Allerdings brauchen wir so nicht 8-mal soviel Arbeitsspeicher auf der Graphikkarte.\n",
        "        loss = criterion(output, target.long()) / 8\n",
        "\n",
        "        # Wir summieren die Kostenfunktion für die einzelnen Trainingsbatches\n",
        "        # auf, um am Schluss den Mittelwert über das gesamte Trainingsset zu berechnen.\n",
        "        train_loss += loss.item()\n",
        "\n",
        "        # HIER, genau HIER wird der Gradient der Zielfunktion für die einzelnen\n",
        "        # Parameter des Netzes per BACKPROPAGATION ausgerechnet. Magic.\n",
        "        loss.backward()\n",
        "\n",
        "        # Jeder Aufruf von \"backward\" berechnet die entsprechenden Gradienten und speichert diese,\n",
        "        # so lange, bis der Optimizer diese einmal benutzt um einen Schritt zu machen\n",
        "\n",
        "        # Hier benutzen wir einen subtilen Trick, um etwas das Rauschen im Optimierungsprozess zu reduzieren:\n",
        "        # Wir machen nur jeder 8. Iteration einen Schritt des Optimizers. D.h. wir Akkumulieren zunächst die\n",
        "        # Gradienten für 8 Trainings-Batches. Dann nutzen wir diese *auf einmal* um einen Schritt zu gehen.\n",
        "        # Im Prinzip entspricht das der gleichen Trainingsdynamik, als würden wir die Größe\n",
        "        # unserer Trainings-Batches *verachtfachen*. Nur, dass wir 64 Traininsbeispiele *auf einmal*\n",
        "        # nicht in unserem Graphikkartenspeicher unterbekommen würden.\n",
        "\n",
        "        # iter_num % 8 ist gleich Null genau dann, wenn iter_num ein vielfaches von 8 ist.\n",
        "        # Also für iter_num = 0, 8, 16, 24, 32, 40, 48, ...\n",
        "        if iter_num % 8 == 0:\n",
        "\n",
        "            # D.h. jede 8te Iteration machen wir einen Schritt mit unserem Optimizer\n",
        "            optimizer.step()\n",
        "\n",
        "            # Nach dem Schritt setzen wir die (mit der loss.backward()-Funktion)\n",
        "            # akkumulierten Gradienten wieder auf 0 zurück.\n",
        "            optimizer.zero_grad()\n",
        "\n",
        "\n",
        "        # Wir berechnen die Vorhersage unseres Netzes für die Trainingsbeispiele,\n",
        "        # in dem wir für jedes Trainingsbeispiel die Klasse mit der maximalen Wahrscheinlichkeit\n",
        "        # bestimmen. Das ist die Klasse, deren Output-Neuron (output) am aktivsten ist.\n",
        "        # Dies wird über die \"argmax\"-Funktion bestimmt.\n",
        "        pred = output.argmax(dim=1, keepdim=True)\n",
        "\n",
        "        # Jetzt bestimmen wir die Anzahl der Trainingsbeispiele, bei denen die vorhergesagte\n",
        "        # Klasse der wahren Klasse entspricht, also die Anzahl der korrekt klassifizierten\n",
        "        # Trainingsbeispiele\n",
        "        correct = pred.eq(target.long().view_as(pred)).sum().item()\n",
        "\n",
        "        # Da wir auch hiervon später den Mittelwert über das gesamte Trainingsset bilden\n",
        "        # wollen, summieren wir dies auch auf.\n",
        "        train_correct += correct\n",
        "\n",
        "    # Am Ende jeder Epoche, d.h. wenn das Training einmal über alle Datenpunkte im Trainingsset gelaufen ist,\n",
        "    # berechnen wir ein paar Kennwerte auf dem Trainings- und auf dem VALIDIERUNGSSET.\n",
        "\n",
        "    # Wir berechnen zunächst die Accuracy, d.h. den relativen Anteil der richtig klassifizierten\n",
        "    # Datenpunkte, auf dem Trainingsset.\n",
        "    # Dafür teilen wir die insgesamt richtig klassifizierten Datenpunkte durch\n",
        "    # die Anzahl der Datenpunkte im Trainingsset:\n",
        "    train_accuracy = train_correct/len(train_loader.dataset)\n",
        "\n",
        "    # Ausserdem berechnen wir den Mittelwert der Zielfunktion (Cross-Entropy)\n",
        "    # auf dem Trainingsset\n",
        "    mean_train_loss = train_loss/len(train_loader.dataset)\n",
        "\n",
        "    # Wir geben die Metriken auf dem Trainingsset aus:\n",
        "    print('\\nTraining Performance Epoch %d: Average loss: %f, Accuracy: %d/%d (%f Percent)\\n' % \\\n",
        "          (epoch, mean_train_loss, train_correct, len(train_loader.dataset), 100.0 * train_accuracy) )\n",
        "\n",
        "    # Nun berechnen wir ein paar Kennwerte auf dem VALIDIERUNGSSET. Beachte: wir übergeben der Funktion den\n",
        "    # Daten-Loader \"val_loader\" des Validierungssets.\n",
        "    metrics_dict = compute_metrics(model, val_loader, device)\n",
        "\n",
        "    # Wir geben die entsprechenden Statistiken (schön formatiert) aus:\n",
        "    print('------------------ Epoch {} ---------------------------------------------------'.format(epoch))\n",
        "    print(\"Accuracy \\t {:.3f}\".format(metrics_dict['accuracy']))\n",
        "    print(\"Recall on normal validation data \\t {:.3f}\".format(metrics_dict['recall_normal']))\n",
        "    print(\"Recall on pneumonia validation data \\t {:.3f}\".format(metrics_dict['recall_pneumonia']))\n",
        "    print(\"Recall on COVID validation data \\t {:.3f}\".format(metrics_dict['recall_covid']))\n",
        "    print(\"Val Loss \\t {}\".format(metrics_dict[\"validation loss\"]))\n",
        "    print(\"------------------------------------------------------------------------------\")\n",
        "\n",
        "    # Wir speichern das Modell mit der besten Accuracy auf dem\n",
        "    # ***VALIDIERUNGSSET***\n",
        "    if metrics_dict['accuracy'] > best_val_score:\n",
        "        torch.save(model, \"best_model.pkl\")\n",
        "        best_val_score = metrics_dict['accuracy']\n",
        "\n",
        "    # Wir speichern die Metriken in der log_file\n",
        "    save_metrics = [epoch, mean_train_loss, metrics_dict[\"validation loss\"], train_accuracy, metrics_dict[\"accuracy\"], \\\n",
        "                    metrics_dict[\"recall_normal\"], metrics_dict[\"recall_pneumonia\"], metrics_dict[\"recall_covid\"]]\n",
        "    log_metrics_to_file(log_file, save_metrics, epoch)\n",
        "\n",
        "    # Wir informieren auch unseren \"Early-Stopper\" über den Trainings-Fortschritt auf dem\n",
        "    # Validierungsset\n",
        "    early_stopper.add_data(model, metrics_dict['validation loss'], metrics_dict['accuracy'])\n",
        "\n",
        "    # Wenn sowohl die Zielfunktion als auch die Accuracy auf dem Validierungsset über einen\n",
        "    # längeren Zeitraum (5 Epochen) kontiniuerlich ansteigen, beenden wir den Trainingsvorgang\n",
        "    # vorzeitig. Genau das ist mit \"early stopping\" gemeint.\n",
        "    if early_stopper.stop() == 1:\n",
        "        break\n",
        "\n",
        "    # Wenn die Accuracy noch zunimmt, das Loss jedoch nicht mehr, versuchen wir zunächst, die\n",
        "    # Lernrate zu verkleinern, in dem wir sie mit einem Faktor 0.1 multiplizieren.\n",
        "    if early_stopper.stop() == 3:\n",
        "        for param_group in optimizer.param_groups:\n",
        "            learning_rate *= 0.1\n",
        "            param_group['lr'] = learning_rate\n",
        "            print('Updating the learning rate to {}'.format(learning_rate))\n",
        "            early_stopper.reset()"
      ]
    },
    {
      "cell_type": "markdown",
      "metadata": {
        "id": "CKumg1G2jvH2"
      },
      "source": [
        "__Herzlichen Glückwunsch!__ Wenn die Trainingsschleife läuft, haben sie sich eine kurze Pause verdient. Falls sie sich in der Zwischenzeit etwas damit beschäftigen wollen, was passieren kann, falls man die heute erarbeiteten \"Best Practices\"\n",
        "\n",
        "*   Einteilung der Daten in einen Trainings-, Validierungs- und Testdatensatz\n",
        "  * Berechnung der Gradienten der Zielfunktion auf den Trainingsdaten\n",
        "  * Optimierung der Hyperparameter und Early-Stopping zum Verhindern von \"Overfitting\" auf den Validierungsdaten\n",
        "  * **Finale Evaluation** des Trainierten Netzwerkes auf separaten Testdaten\n",
        "*   Sinnvolle Evaluierungsmetriken und Zielfunktionen unter Berücksichtigung von eventuell unter- oder überrepräsentierten Klassen in den Trainingsdaten\n",
        "\n",
        "**nicht** beachtet, können sie sich gerne in der Zwischenzeit folgende Blog- und Zeitschriftenartikel zu Gemüte führen:\n",
        "\n",
        "*   https://medium.com/towards-data-science/detecting-covid-19-with-97-accuracy-beware-of-the-ai-hype-9074248af3e1\n",
        "*   https://link.springer.com/article/10.1007/s13246-020-00934-8\n",
        "\n",
        "Nach ca. 5 Epochen können sie das Training unterbrechen, in dem sie auf den \"Stop\" Knopf in der linken oberen Ecke der vorherigen Zelle klicken:\n",
        "\n"
      ]
    },
    {
      "cell_type": "markdown",
      "source": [
        "![Bildschirmfoto 2023-11-26 um 15.28.26.png](data:image/png;base64,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)"
      ],
      "metadata": {
        "id": "a8tykj0-CJ3k"
      }
    },
    {
      "cell_type": "markdown",
      "source": [
        "Danach können sie in den folgenden Zellen die Performance ihres trainierten Netzwerkes testen."
      ],
      "metadata": {
        "id": "nCMBo9pbCJuu"
      }
    },
    {
      "cell_type": "markdown",
      "metadata": {
        "id": "IaRH4ASCCj_M"
      },
      "source": [
        "# Evaluation der Trainingskurven und der Ergebnisse auf dem Testset\n",
        "\n",
        "Genau wie im Trainings-Notebook importieren wir zunächst einige Bibliotheken, die wir benutzen werden, richten unsere Umgebung ein und wählen die Graphikkarte, die wir für unsere Berechnungen benutzen."
      ]
    },
    {
      "cell_type": "markdown",
      "metadata": {
        "id": "UqFAruWg_Keq"
      },
      "source": [
        "### Trainingskurven\n",
        "Zunächst schauen wir uns die Trainingskurven an. Falls z.B. die Learning-Rate zu groß ist und die Kostenfunktion explodiert, kann man das so sofort erkennen.\n",
        "\n",
        "__Ohne eine Darstellung der Lernkurven, die zeigen, wie sich die Kostenfunktion auf dem Trainings- und Validierungsset während des Trainings entwickelt, sollte man keinem Deep-Learning-Ergebnis trauen.__"
      ]
    },
    {
      "cell_type": "code",
      "execution_count": null,
      "metadata": {
        "id": "ybfEnf50_Keq"
      },
      "outputs": [],
      "source": [
        "import matplotlib.pyplot as plt\n",
        "\n",
        "# Wir teilen matplotlib mit, dass die Kurven direkt hier ins Notebook gezeichnet werden sollen.\n",
        "%matplotlib inline\n",
        "\n",
        "# Jetzt lesen wir die Metriken, die wir in der Trainingsschleife nach jeder Epoche gespeichert haben\n",
        "from helper_functions_covid import read_log_data\n",
        "\n",
        "log_file = 'log_train.txt'\n",
        "log_data = read_log_data(log_file)\n",
        "\n",
        "# Zuerst zeichnen wir eine Graphik, die die Lernkurven der Kostenfunktion (\"loss\") auf dem Trainings-\n",
        "# und Validierungsset darstellt\n",
        "plt.figure()\n",
        "plt.title('Loss')\n",
        "plt.plot(log_data['epoch'],log_data['train loss'],label=\"train loss\")\n",
        "plt.plot(log_data['epoch'],log_data['validation loss'],label=\"validation loss\")\n",
        "plt.xlabel('Epoche')\n",
        "plt.ylabel('Kostenfunktion')\n",
        "plt.legend(loc='best')\n",
        "plt.show()\n",
        "\n",
        "# Jetzt zeichnen wir noch eine Graphik, die die Lernkurven der Accuracy auf dem Trainings-\n",
        "# und Validierungsset darstellt\n",
        "plt.figure()\n",
        "plt.title('Accuracy')\n",
        "plt.plot(log_data['epoch'],log_data['train accuracy'],label=\"train accuracy\")\n",
        "plt.plot(log_data['epoch'],log_data['validation accuracy'],label=\"validation accuracy\")\n",
        "plt.legend(loc='best')\n",
        "plt.xlabel('Epoche')\n",
        "plt.ylabel('Accuracy')\n",
        "plt.show()"
      ]
    },
    {
      "cell_type": "markdown",
      "metadata": {
        "id": "ftJ4CNIe_Ker"
      },
      "source": [
        "### Metriken auf dem Testset\n",
        "\n",
        "Als nächstes schauen wir uns die Kennwerte des trainierten Netzwerkes auf dem unabhängigen Testset an, das wir bereits im Trainings-Notebook vorbereitet und gespeichert haben.\n",
        "\n",
        "Dazu laden wir zunächst die Dateinamen aus den entsprechenden Listen, die wir im Trainings-Notebook erzeugt haben."
      ]
    },
    {
      "cell_type": "code",
      "execution_count": null,
      "metadata": {
        "id": "i2jOPEIuCj_Z"
      },
      "outputs": [],
      "source": [
        "from helper_functions_covid import read_txt\n",
        "\n",
        "filenames_normal_test = read_txt('filenames_normal_test.txt')\n",
        "filenames_pneumonia_test = read_txt('filenames_pneumonia_test.txt')\n",
        "filenames_covid_test = read_txt('filenames_covid_test.txt')"
      ]
    },
    {
      "cell_type": "markdown",
      "metadata": {
        "id": "9_cSZjRH_Ker"
      },
      "source": [
        "Jetzt erzeugen wir einen entsprechenden Datensatz, der diese Dateien so lädt und aufbereitet, dass das trainierte Netz sie verarbeiten kann."
      ]
    },
    {
      "cell_type": "code",
      "execution_count": null,
      "metadata": {
        "id": "Oz1xKw0ECj_Z"
      },
      "outputs": [],
      "source": [
        "from helper_functions_covid import ImageDataset, val_transformer, DataLoader\n",
        "\n",
        "data_path = './covid_dataset_full/data'\n",
        "batchsize = 8\n",
        "\n",
        "testset = ImageDataset(root_dir=data_path,\n",
        "                          classes = ['normal', 'pneumonia', 'COVID'],\n",
        "                          files_path = [filenames_normal_test, filenames_pneumonia_test, filenames_covid_test],\n",
        "                          transform= val_transformer)\n",
        "\n",
        "test_loader = DataLoader(testset, batch_size=batchsize, drop_last=False, shuffle=False)"
      ]
    },
    {
      "cell_type": "markdown",
      "metadata": {
        "id": "bOgISBi-_Kes"
      },
      "source": [
        "Nun können wir die Metriken auf dem Testset evaluieren."
      ]
    },
    {
      "cell_type": "code",
      "execution_count": null,
      "metadata": {
        "id": "KJdQKa1XMv2A"
      },
      "outputs": [],
      "source": [
        "from helper_functions_covid import compute_metrics\n",
        "\n",
        "model = torch.load(\"best_model.pkl\")\n",
        "\n",
        "metrics_dict = compute_metrics(model, test_loader, device)\n",
        "# Wir geben die entsprechenden Statistiken aus:\n",
        "print('------------------ Test Metrics ----------------------------------------------')\n",
        "print(\"Accuracy \\t {:.3f}\".format(metrics_dict['accuracy']))\n",
        "print(\"Recall on normal test data \\t {:.3f}\".format(metrics_dict['recall_normal']))\n",
        "print(\"Recall on pneumonia test data \\t {:.3f}\".format(metrics_dict['recall_pneumonia']))\n",
        "print(\"Recall on COVID test data \\t {:.3f}\".format(metrics_dict['recall_covid']))\n",
        "print(\"Test Loss \\t {}\".format(metrics_dict[\"validation loss\"]))\n",
        "print(\"------------------------------------------------------------------------------\")"
      ]
    },
    {
      "cell_type": "markdown",
      "metadata": {
        "id": "2fj0Vh7a_Kes"
      },
      "source": [
        "Nun erstellen wir auch noch die __\"Confusion Matrix\"__ für das trainierte Netzwerk auf dem Testset."
      ]
    },
    {
      "cell_type": "code",
      "execution_count": null,
      "metadata": {
        "id": "n6f5MQqtMv2B"
      },
      "outputs": [],
      "source": [
        "from helper_functions_covid import plot_confusion_matrix\n",
        "\n",
        "conf_matrix = metrics_dict[\"confusion matrix\"]\n",
        "\n",
        "plot_confusion_matrix(conf_matrix)"
      ]
    },
    {
      "cell_type": "markdown",
      "metadata": {
        "id": "vofafuPD_Kes"
      },
      "source": [
        "### GradCAM\n",
        "\n",
        "Ein häufig (zu recht) geäußerter Kritikpunkt an Deep-Learning-Methoden ist, dass es sich bei den trainierten Netzen um \"Black Boxes\" handelt. Aufgrund der schieren Komplexität und der Anzahl der freien Parameter ist es - im Gegensatz zu regelbasierten Systemen oder klassischen Algorithmen - nicht einfach, herauszufinden, nach welchen Regeln oder Kriterien ein neuronales Netzwerk seine Entscheidungen fällt.\n",
        "\n",
        "Aufgrund der Bedeutung dieser Frage gibt es zum Glück einiges an Forschung und Fortschritt auf diesem Gebiet.\n",
        "\n",
        "Ein Ansatz ist __Feature Attribution__: Feature Attribution bedeutet zu untersuchen, welche \"Features\" eines Datenpunktes den Output eines Classifiers am stärksten beeinflussen.\n",
        "\n",
        "Bei der Klassifikation von Bilder kann man zum Beispiel untersuchen, welche Pixel eines Inputbildes die vorhergesagten Klassewahrscheinlichkeiten am stärksten beeinflussen würden, wenn man an diesen \"ein wenig wackeln\" würde.\n",
        "\n",
        "Ein solcher Algorithmus ist z.B. [GradCAM](https://arxiv.org/abs/1610.02391), den wir auf unserem trainierten Netz ausprobieren wollen.\n",
        "\n",
        "Besonders lehrreich ist das, wenn wir wissen, was die wirkliche Klasse eines Bildes ist, und welche Klasse das Netzwerk dem Datenpunkt zugeordnet hat."
      ]
    },
    {
      "cell_type": "code",
      "execution_count": null,
      "metadata": {
        "id": "fIam_EAKMv2B"
      },
      "outputs": [],
      "source": [
        "# Eventuell einmal pytorch-gradcam installieren und danach den Kernel nochmals neu starten,\n",
        "# falls diese Zelle nicht ausführbar sein sollte:\n",
        "# !pip install pytorch-gradcam\n",
        "\n",
        "\n",
        "from helper_functions_covid import show_grad_cam\n",
        "\n",
        "# Vorhersagen, die das Netz für die Bilder des Testsets gemacht hat\n",
        "preds = metrics_dict[\"pred_list\"]\n",
        "# Wahre Klassen für die Bilder des Testsets\n",
        "targets = metrics_dict[\"target_list\"]\n",
        "# Pfade zu den Bildern des Testsets\n",
        "paths = metrics_dict[\"paths\"]\n",
        "\n",
        "# Diese Funktion erhält neben den vorhergesagten Klassen, den wahren Klassen und den Dateinamen\n",
        "# der Datenpunkte aus dem Testset (preds, targets, paths) auch das trainierte Netzwerk (model).\n",
        "# Die Funktion berechnet auf der Graphikkarte (device) die entsprechenden Feature-Attribution-Maps für\n",
        "# zufällig gezogene Beispiele aus dem Testset, die vom Netzwerk als \"predicted_label\" klassifiziert\n",
        "# wurden, in Wahrheit aber zur Klasse \"true_label\" gehören.\n",
        "# D.h. wenn sie die Funktion so ausführen, zeigt sie Beispiele an, die als covid Klassifiziert wurden\n",
        "# und auch wirklich zur Klasse \"covid\" gehören.\n",
        "# Probieren sie gerne auch andere Kombinationen aus und beobachten sie, wie sich die Maps\n",
        "# z.B. für korrekte und falsche Vorhersagen unterscheiden.\n",
        "# Mögliche optionen für predicted_laben und true_label sind die Klassen unseres Datensatzes, also\n",
        "# 'covid', 'normal' und 'pneumonia'\n",
        "show_grad_cam(preds, targets, paths, model, device, predicted_label = 'pneumonia', true_label = 'covid')"
      ]
    },
    {
      "cell_type": "markdown",
      "metadata": {
        "id": "VINpG9fIMv2B"
      },
      "source": [
        "Das wars. Wir hoffen, sie konnten in dieser Übung etwas lernen. Eine Diskussion einiger Beispielhafter Ergebnisse finden sie in [diesem Notebook](\n",
        "https://colab.research.google.com/github/kaiu85/cv-workshop/blob/main/Computer_Vision/03_Discussion.ipynb)."
      ]
    },
    {
      "cell_type": "code",
      "execution_count": null,
      "metadata": {
        "id": "gMigYzwrjvH2"
      },
      "outputs": [],
      "source": []
    }
  ],
  "metadata": {
    "accelerator": "GPU",
    "colab": {
      "name": "Train_Classifier_on_COVID-Chest-X-Rays.ipynb",
      "provenance": []
    },
    "kernelspec": {
      "display_name": "Python 3 (ipykernel)",
      "language": "python",
      "name": "python3"
    },
    "language_info": {
      "codemirror_mode": {
        "name": "ipython",
        "version": 3
      },
      "file_extension": ".py",
      "mimetype": "text/x-python",
      "name": "python",
      "nbconvert_exporter": "python",
      "pygments_lexer": "ipython3",
      "version": "3.8.12"
    }
  },
  "nbformat": 4,
  "nbformat_minor": 0
}